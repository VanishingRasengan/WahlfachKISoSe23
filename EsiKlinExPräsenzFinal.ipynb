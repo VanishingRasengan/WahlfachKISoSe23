{
  "nbformat": 4,
  "nbformat_minor": 0,
  "metadata": {
    "colab": {
      "provenance": [],
      "toc_visible": true,
      "include_colab_link": true
    },
    "kernelspec": {
      "name": "python3",
      "display_name": "Python 3"
    },
    "language_info": {
      "name": "python"
    }
  },
  "cells": [
    {
      "cell_type": "markdown",
      "metadata": {
        "id": "view-in-github",
        "colab_type": "text"
      },
      "source": [
        "<a href=\"https://colab.research.google.com/github/VanishingRasengan/WahlfachKISoSe23/blob/main/EsiKlinExPr%C3%A4senzFinal.ipynb\" target=\"_parent\"><img src=\"https://colab.research.google.com/assets/colab-badge.svg\" alt=\"Open In Colab\"/></a>"
      ]
    },
    {
      "cell_type": "markdown",
      "source": [
        "# What is Python?\n",
        "\n",
        "Python is a modern, robust, high level programming language. It is very easy to pick up even if you are completely new to programming.\n",
        "\n",
        "- The most recent major version of Python is Python 3, which we shall be using in this tutorial.\n",
        "- Python has a simple syntax similar to the English language.\n",
        "- Python uses new lines to complete a command.\n",
        "- Python relies on indentation, using whitespace, to define scope; such as the scope of loops, functions and classes."
      ],
      "metadata": {
        "id": "f9qDa2hUzge5"
      }
    },
    {
      "cell_type": "markdown",
      "metadata": {
        "id": "asFyxzN8uKAY"
      },
      "source": [
        "# Python Syntax\n",
        "\n",
        "It is important to know how to write lines of code in Python.\n"
      ]
    },
    {
      "cell_type": "markdown",
      "source": [
        "## Indentation\n",
        "\n",
        "Indentation refers to the spaces at the beginning of a code line.\n",
        "\n",
        "Where in other programming languages the indentation in code is for readability only, the indentation in Python is very important.\n",
        "\n",
        "Python uses indentation to indicate a block of code."
      ],
      "metadata": {
        "id": "6cebcVLj0-1J"
      }
    },
    {
      "cell_type": "code",
      "execution_count": null,
      "metadata": {
        "id": "fpL_nlIcuKAZ"
      },
      "outputs": [],
      "source": [
        "if 5 > 2:\n",
        "    print(\"Five is greater than two!\")"
      ]
    },
    {
      "cell_type": "markdown",
      "metadata": {
        "id": "oJ_JdIkvuKAZ"
      },
      "source": [
        "Python will give you an error if you skip the indentation:"
      ]
    },
    {
      "cell_type": "code",
      "execution_count": null,
      "metadata": {
        "id": "5YIVU-ZmuKAb"
      },
      "outputs": [],
      "source": [
        "if 5 > 2:\n",
        "print(\"Five is greater than two!\")"
      ]
    },
    {
      "cell_type": "markdown",
      "metadata": {
        "id": "3HdhQiHPuKAb"
      },
      "source": [
        "## Comments\n",
        "\n",
        "Python has commenting capability for the purpose of in-code documentation.\n",
        "\n",
        "Comments start with a **#**, and Python will render the rest of the line as a comment:"
      ]
    },
    {
      "cell_type": "code",
      "execution_count": null,
      "metadata": {
        "id": "daYsBBqMuKAc",
        "colab": {
          "base_uri": "https://localhost:8080/"
        },
        "outputId": "75729ccc-4780-4289-9916-d02fe9ecccdb"
      },
      "outputs": [
        {
          "output_type": "stream",
          "name": "stdout",
          "text": [
            "Hello, World!\n"
          ]
        }
      ],
      "source": [
        "#This is a comment.\n",
        "print(\"Hello, World!\")"
      ]
    },
    {
      "cell_type": "markdown",
      "metadata": {
        "id": "6WYhH5ufuKAc"
      },
      "source": [
        "# Python Variables\n",
        "\n",
        "Variables are reserved memory locations to store values. This means that when you create a variable you reserve some space in your computer memory.\n",
        "\n",
        "Python variables do not need explicit declaration to reserve memory space. The declaration happens automatically when you assign a value to a variable. The equal sign (=) is used to assign values to variables.\n",
        "\n",
        "The operand to the left of the = operator is the name of the variable and the operand to the right of the = operator is the value stored in the variable."
      ]
    },
    {
      "cell_type": "code",
      "execution_count": null,
      "metadata": {
        "id": "U6_8uaUWuKAd"
      },
      "outputs": [],
      "source": [
        "x = 5\n",
        "y = \"John\"\n",
        "\n",
        "print(x)\n",
        "print(y)"
      ]
    },
    {
      "cell_type": "markdown",
      "metadata": {
        "id": "1KNUVGjNuKAd"
      },
      "source": [
        "Variables can be str(Strings), int(integers), float(decimal point numbers) and many more.\n",
        "\n",
        "We show a few common examples.\n"
      ]
    },
    {
      "cell_type": "code",
      "execution_count": null,
      "metadata": {
        "id": "auXxOzXUuKAe"
      },
      "outputs": [],
      "source": [
        "x = 4 # x is of type int\n",
        "y = \"Sally\" # y is of type str\n",
        "z = 4.0 # z is of type float\n",
        "\n",
        "print(x)\n",
        "print(y)\n",
        "print(z)"
      ]
    },
    {
      "cell_type": "markdown",
      "metadata": {
        "id": "QC8swoNpuKAe"
      },
      "source": [
        "Variables do not need to be declared with any particular type and can even change type after they have been set."
      ]
    },
    {
      "cell_type": "code",
      "execution_count": null,
      "metadata": {
        "id": "Q2sJH59TuKAe"
      },
      "outputs": [],
      "source": [
        "x = 4 # x is of type int\n",
        "x = \"Sally\" # x is now of type str\n",
        "print(x)"
      ]
    },
    {
      "cell_type": "markdown",
      "metadata": {
        "id": "W8lL0C-kuKAf"
      },
      "source": [
        "**Note**\n",
        "\n",
        "To declare a string you can use either \"...\" or '...'.\n",
        "\n",
        "Single (') and double (\") quotes are equivalent in Python."
      ]
    },
    {
      "cell_type": "markdown",
      "source": [
        "## Exercise\n",
        "You can also do some calculations with variables:\n",
        "\n",
        "- Create a variable growth_multiplier, equal to 1.1.\n",
        "- Create a variable, result, equal to the amount of money you saved after 1 year\n",
        "- Print out the value of result.\n"
      ],
      "metadata": {
        "id": "HLWMNMPDI1RF"
      }
    },
    {
      "cell_type": "code",
      "source": [
        "# Create a variable savings\n",
        "savings = 100\n",
        "\n",
        "# Create a variable growth_multiplier\n",
        "\n",
        "\n",
        "# Calculate result\n",
        "\n",
        "\n",
        "# Print out result\n",
        "print(result)"
      ],
      "metadata": {
        "id": "5u0d6N1uJFcd"
      },
      "execution_count": null,
      "outputs": []
    },
    {
      "cell_type": "markdown",
      "metadata": {
        "id": "-qt4JDYvuKAk"
      },
      "source": [
        "# Lists\n",
        "\n",
        "Lists are the most commonly used data structure. Think of it as a sequence of data that is enclosed in square brackets and data are separated by a comma. Each of these data can be accessed by calling it's index value.\n",
        "\n",
        "Lists are declared by just equating a variable to '[ ]' or list."
      ]
    },
    {
      "cell_type": "code",
      "execution_count": null,
      "metadata": {
        "id": "4DD8MMtwuKAk"
      },
      "outputs": [],
      "source": [
        "a = []\n",
        "\n",
        "type(a)"
      ]
    },
    {
      "cell_type": "markdown",
      "metadata": {
        "id": "F_0IiIiouKAk"
      },
      "source": [
        "## Indexing\n",
        "\n",
        "In python, indexing starts from 0 as already seen for strings. Thus now the list x, which has two elements will have apple at 0 index and orange at 1 index."
      ]
    },
    {
      "cell_type": "code",
      "execution_count": null,
      "metadata": {
        "id": "7iB8lj25uKAl"
      },
      "outputs": [],
      "source": [
        "x = ['apple', 'orange']\n",
        "\n",
        "x[0]"
      ]
    },
    {
      "cell_type": "markdown",
      "metadata": {
        "id": "RjOHgcE6uKAl"
      },
      "source": [
        "Indexing can also be done in reverse order. That is the last element can be accessed first. Here, indexing starts from -1. Thus index value -1 will be orange and index -2 will be apple."
      ]
    },
    {
      "cell_type": "code",
      "execution_count": null,
      "metadata": {
        "id": "dbRTUni7uKAl"
      },
      "outputs": [],
      "source": [
        "x[-1]"
      ]
    },
    {
      "cell_type": "markdown",
      "metadata": {
        "id": "Fxef17pguKAl"
      },
      "source": [
        "## Reassigning Values\n",
        "\n",
        "You can change values of any index of a list.\n"
      ]
    },
    {
      "cell_type": "code",
      "execution_count": null,
      "metadata": {
        "id": "MIWArpr2uKAm"
      },
      "outputs": [],
      "source": [
        "x[0] = 10\n",
        "\n",
        "print(x)"
      ]
    },
    {
      "cell_type": "markdown",
      "metadata": {
        "id": "eAc9gc6TuKAm"
      },
      "source": [
        "But you cannot assign values to a index which is more than the length of the list."
      ]
    },
    {
      "cell_type": "code",
      "execution_count": null,
      "metadata": {
        "id": "btdkOGIkuKAn"
      },
      "outputs": [],
      "source": [
        "x[11] = 11\n",
        "print(x)"
      ]
    },
    {
      "cell_type": "markdown",
      "metadata": {
        "id": "Jebhxy_-uKAr"
      },
      "source": [
        "# Dictionary\n",
        "\n",
        "A dictionary is a collection which is unordered, changeable and indexed.\n",
        "\n",
        "In Python dictionaries are written with curly brackets, and they have keys and values."
      ]
    },
    {
      "cell_type": "code",
      "execution_count": null,
      "metadata": {
        "id": "BsEyVeeAuKAr"
      },
      "outputs": [],
      "source": [
        "mydict ={\n",
        "  \"brand\": \"Ford\",\n",
        "  \"model\": \"Mustang\",\n",
        "  \"year\": 1964\n",
        "}\n",
        "print(mydict)"
      ]
    },
    {
      "cell_type": "markdown",
      "metadata": {
        "id": "xVzBvg3TuKAr"
      },
      "source": [
        "## Accessing items\n",
        "\n",
        "You can access the items of a dictionary by referring to its key name, inside square brackets:"
      ]
    },
    {
      "cell_type": "code",
      "execution_count": null,
      "metadata": {
        "id": "J4cl6YxBuKAr"
      },
      "outputs": [],
      "source": [
        "x = mydict[\"model\"]\n",
        "print(x)"
      ]
    },
    {
      "cell_type": "markdown",
      "metadata": {
        "id": "0Uu3BxJ7uKAr"
      },
      "source": [
        "## Change Values\n",
        "\n",
        "You can change the value of a specific item by referring to its key name:"
      ]
    },
    {
      "cell_type": "code",
      "execution_count": null,
      "metadata": {
        "id": "GFiMJ-IcuKAs"
      },
      "outputs": [],
      "source": [
        "mydict[\"year\"] = 2018\n",
        "\n",
        "print(mydict)"
      ]
    },
    {
      "cell_type": "markdown",
      "metadata": {
        "id": "aUCmkn5wuKAt"
      },
      "source": [
        "## Adding/ removing Items\n",
        "\n",
        "Adding an item to the dictionary is done by using a new index key and assigning a value to it. Removing works similiar:"
      ]
    },
    {
      "cell_type": "code",
      "execution_count": null,
      "metadata": {
        "id": "HVTa4_jRuKAt"
      },
      "outputs": [],
      "source": [
        "mydict ={\n",
        "  \"brand\": \"Ford\",\n",
        "  \"model\": \"Mustang\",\n",
        "  \"year\": 1964\n",
        "}\n",
        "\n",
        "mydict[\"color\"] = \"red\"\n",
        "print(mydict)"
      ]
    },
    {
      "cell_type": "code",
      "source": [
        "del(mydict[\"color\"])\n",
        "print(mydict)"
      ],
      "metadata": {
        "id": "wrJXBuf2eFWK"
      },
      "execution_count": null,
      "outputs": []
    },
    {
      "cell_type": "markdown",
      "metadata": {
        "id": "uOoGwNbduKAt"
      },
      "source": [
        "## Exercise\n",
        "\n",
        "Construct a dictionary named car with the characteristics, Brand is \"Audi\", Model of the car: \"Q3\" and Year of construction: 2001.\n",
        "\n",
        "Then perform the following tasks:\n",
        "- Get its model\n",
        "- Change the year to 2019\n",
        "- Add Colour of car as Blue"
      ]
    },
    {
      "cell_type": "code",
      "execution_count": 18,
      "metadata": {
        "id": "a1ssRcCHuKAt"
      },
      "outputs": [],
      "source": [
        "car ={\"brand\": ___,\n",
        "  ___: ___,\n",
        "  ___: ___\n",
        "}"
      ]
    },
    {
      "cell_type": "code",
      "execution_count": null,
      "metadata": {
        "id": "ezg7ERuEuKAu"
      },
      "outputs": [],
      "source": [
        "# get the model\n",
        "model = ___\n",
        "print(\"The model of car is: {}\".format(model))"
      ]
    },
    {
      "cell_type": "code",
      "execution_count": null,
      "metadata": {
        "id": "ZW7ei6zjuKAu"
      },
      "outputs": [],
      "source": [
        "# change the year\n",
        "___=___\n",
        "\n",
        "# print the entire dictionary\n",
        "print(car)"
      ]
    },
    {
      "cell_type": "code",
      "execution_count": null,
      "metadata": {
        "id": "-QgR5UTjuKAu"
      },
      "outputs": [],
      "source": [
        "# add colour\n",
        "___ = ___\n",
        "\n",
        "# print the entire dictionary\n",
        "print(car)"
      ]
    },
    {
      "cell_type": "markdown",
      "source": [
        "# Pandas\n",
        "Pandas is an open source library, providing high-performance, easy-to-use data structures and data analysis tools for Python."
      ],
      "metadata": {
        "id": "lZdy_OnXekvR"
      }
    },
    {
      "cell_type": "markdown",
      "source": [
        "## From a dictionary to a DataFrame\n",
        "The DataFrame is one of Pandas' most important data structures. It's basically a way to store tabular data where you can label the rows and the columns. One way to build a DataFrame is from a dictionary."
      ],
      "metadata": {
        "id": "9PHT3MDYe1pl"
      }
    },
    {
      "cell_type": "markdown",
      "source": [
        "In the exercises you will be working with vehicle data from different countries. Each observation corresponds to a country and the columns give information about the number of vehicles per capita, whether people drive left or right, and so on."
      ],
      "metadata": {
        "id": "MatjCW9GjAST"
      }
    },
    {
      "cell_type": "markdown",
      "source": [
        "\n",
        "1. Import pandas as pd.\n",
        "2. Use the pre-defined lists to create a dictionary called `my_dict`. There should be three key value pairs:\n",
        "- key `'country'` and value `names`.\n",
        "- key `'drives_right'` and value `dr`.\n",
        "- key `'cars_per_cap'` and value `cpc`.\n",
        "3. Use `pd.DataFrame()` to turn your dict into a DataFrame called `cars`.\n",
        "4. Print out `cars` and see how beautiful it is."
      ],
      "metadata": {
        "id": "4N32Fbv1hS8B"
      }
    },
    {
      "cell_type": "code",
      "source": [
        "# Pre-defined lists\n",
        "names = ['United States', 'Australia', 'Japan', 'India', 'Russia', 'Morocco', 'Egypt']\n",
        "dr =  [True, False, False, False, True, True, True]\n",
        "cpc = [809, 731, 588, 18, 200, 70, 45]\n",
        "\n",
        "# Import pandas as pd\n",
        "import pandas as pd\n",
        "\n",
        "# Create dictionary my_dict with three key:value pairs: my_dict\n",
        "my_dict = {\"country\":names, \"drives_right\":dr, \"cars_per_cap\": cpc}\n",
        "\n",
        "# Build a DataFrame cars from my_dict: cars\n",
        "cars = pd.DataFrame(___)\n",
        "\n",
        "# Print cars\n",
        "print(___)"
      ],
      "metadata": {
        "id": "gK4uC1fNh59K"
      },
      "execution_count": null,
      "outputs": []
    },
    {
      "cell_type": "markdown",
      "source": [
        "## Square Brackets\n",
        "\n",
        "There are many different ways to index and select Pandas DataFrames. The simplest, but not the most powerful way, is to use square brackets.\n",
        "\n",
        "To select only the cars_per_cap column from cars, you can use:\n",
        "\n",
        "`cars['cars_per_cap']`\n",
        "\n",
        "`cars[['cars_per_cap']]`\n",
        "\n",
        "The single bracket version gives a Pandas Series, the double bracket version gives a Pandas DataFrame."
      ],
      "metadata": {
        "id": "SFgKRMRhjn-i"
      }
    },
    {
      "cell_type": "markdown",
      "source": [
        "Square brackets can do more than just selecting columns. You can also use them to get rows, or observations, from a DataFrame. The following call selects the first five rows from the cars DataFrame:\n",
        "\n",
        "`cars[0:5]`\n",
        "\n",
        "The result is another DataFrame containing only the rows you specified.\n",
        "\n",
        "Pay attention: You can only select rows using square brackets if you specify a slice, like `0:4`. Also, you're using the integer indexes of the rows here, not the row labels!\n",
        "\n",
        "Let's practise that!\n",
        "\n",
        "- Select the first 3 observations from cars and print them out.\n",
        "- Select the fourth, fifth and sixth observation, corresponding to row indexes 3, 4 and 5, and print them out.\n"
      ],
      "metadata": {
        "id": "34I3AxmSkhGi"
      }
    },
    {
      "cell_type": "code",
      "source": [
        "# Print out first 3 observations\n",
        "print(cars[___])\n",
        "\n",
        "# Print out fourth, fifth and sixth observation\n",
        "print(cars[___])"
      ],
      "metadata": {
        "id": "_jgBmVwHkzhl"
      },
      "execution_count": null,
      "outputs": []
    },
    {
      "cell_type": "markdown",
      "source": [
        "#  Random Forest zur Krebsdiagnostik"
      ],
      "metadata": {
        "id": "djFkx7BNZnpL"
      }
    },
    {
      "cell_type": "markdown",
      "source": [
        "Der Einfachheit halber ab jetzt in Deutsch: ;)\n",
        "Nachdem wir grundlegende Python-Befehle kennengelernt haben, reicht dies tatsächlich schon aus, eine erste KI zu programmieren."
      ],
      "metadata": {
        "id": "e7A-FJiiwf7-"
      }
    },
    {
      "cell_type": "markdown",
      "source": [
        "## 1. Vorbereitende Schritte\n",
        "Üblicherweise beginnt man mit der Definition derjenigen Bibliotheken, welche im Rahmen des folgenden Codes zu Anwendung kommen werden. In unserem Fall wäre dies zunächst:\n",
        "\n",
        "1.) numpy, um einfache Kalkulationen zu ermöglichen\n",
        "\n",
        "2.) pandas, um mit Python dataframes zu arbeiten\n",
        "\n",
        "3.) matplotlib.pyplot, um die Erstellung von Grafiken zu erleichtern"
      ],
      "metadata": {
        "id": "e_JANaDaxvtb"
      }
    },
    {
      "cell_type": "code",
      "metadata": {
        "id": "vZWNXYPn893P"
      },
      "source": [
        "# import libraries\n",
        "import numpy as np\n",
        "import pandas as pd\n",
        "import matplotlib.pyplot as plt\n",
        "import seaborn as sns"
      ],
      "execution_count": null,
      "outputs": []
    },
    {
      "cell_type": "markdown",
      "source": [
        "Darüberhinaus rufen wir uns über den folgenden Befehl den Breast Cancer Wisconsin Datensatz ab, den ich euch freundlicherweise auf github bereitsgestellt habe."
      ],
      "metadata": {
        "id": "diLfg2VKzXFC"
      }
    },
    {
      "cell_type": "code",
      "metadata": {
        "id": "dTq7Woyw9Lw-"
      },
      "source": [
        "# Load the data\n",
        "url = 'https://raw.githubusercontent.com/VanishingRasengan/WahlfachKISoSe23/main/datasets/data.csv'\n",
        "df = pd.read_csv(url)"
      ],
      "execution_count": null,
      "outputs": []
    },
    {
      "cell_type": "markdown",
      "source": [
        "## 2. Explorative Datenanalyse\n",
        "Der Breast Cancer Wisconsin Datensatz ist nun als dataframe in der Variable `df` abgespeichert. Mit dem `.head()`-Befehl können wir uns einen ersten Überblick verschaffen:"
      ],
      "metadata": {
        "id": "BND7-pwCzpcJ"
      }
    },
    {
      "cell_type": "code",
      "metadata": {
        "id": "bjMN_m_-9bCa"
      },
      "source": [
        "df.___"
      ],
      "execution_count": null,
      "outputs": []
    },
    {
      "cell_type": "markdown",
      "source": [
        "Ebenso ermöglicht `.shape` einen Einblick in die Größe der Tabelle."
      ],
      "metadata": {
        "id": "C8pK8iKL0GvD"
      }
    },
    {
      "cell_type": "code",
      "metadata": {
        "id": "_5vOpy-E95Nm"
      },
      "source": [
        "df.___"
      ],
      "execution_count": null,
      "outputs": []
    },
    {
      "cell_type": "markdown",
      "source": [
        "Was euch sicherlich schon aufgefallen ist: Es gibt tatsächlich eine Spalte, in der lauter leere Werte stehen. Durch den `.isna().sum()`-Befehl kann man sich ausgeben lassen, welche der Spalten jeweils \"empty values\" besitzen."
      ],
      "metadata": {
        "id": "2bU1auq-0PaP"
      }
    },
    {
      "cell_type": "code",
      "metadata": {
        "id": "KoEg9REU-ARf"
      },
      "source": [
        "# Count the number of empty values in each column\n",
        "df.___"
      ],
      "execution_count": null,
      "outputs": []
    },
    {
      "cell_type": "markdown",
      "source": [
        "Darum müssen wir uns später kümmern. Bevor wir dazu kommen, schauen wir uns noch kurz an, wie das Verhältnis zwischen Krebkranken (maligne, M) und Gesunden (Benigne, B) ist. Dies geht am besten mit dem .value_counts()-Befehl, den wir auf die relevante Spalte anwenden können:"
      ],
      "metadata": {
        "id": "uj25WfK2CnHK"
      }
    },
    {
      "cell_type": "code",
      "metadata": {
        "id": "qtIDnAsQ-WKO"
      },
      "source": [
        "# Get a count of number of Malignant (M) or Beningn (B) cells\n",
        "df[\"diagnosis\"].___"
      ],
      "execution_count": null,
      "outputs": []
    },
    {
      "cell_type": "markdown",
      "source": [
        "Dies können wir auch in einem schicken Graphen direkt visualisieren. Dazu importieren wir uns eine andere library, nämlich seaborn und können mit\n",
        "\n",
        "`sns. countplot(df[\"Relevante Spalte\"])`\n",
        "\n",
        "ein Histogramm ausgeben lassen."
      ],
      "metadata": {
        "id": "e25TlOUkDbTR"
      }
    },
    {
      "cell_type": "code",
      "metadata": {
        "id": "KWIPdbPN-gMe"
      },
      "source": [
        "# Visualize the count\n",
        "sns.___"
      ],
      "execution_count": null,
      "outputs": []
    },
    {
      "cell_type": "markdown",
      "source": [
        "## Vorbereitende Schritte\n",
        "\n",
        "Jetzt, wo wir einen groben Überblick über den Datensatz gewonnen haben, müssen wir nun die Tabelle so umformen, dass diese dem Algorithmus als Input vorgelegt werden kann."
      ],
      "metadata": {
        "id": "WYcrSDv-A7yD"
      }
    },
    {
      "cell_type": "markdown",
      "source": [
        "Zunächst entfernen wir die letzte Spalte des Datensatzes, weil diese ja nur \"empty values\" besitzt. Dies geht mit dem Befehl:\n",
        "\n",
        "`.drop(columns=[df.columns[Nummer der Spalte]])`\n",
        "\n",
        "Anschließend kann man mit `.shape` überprüfen, ob dies auch wirklich erfolgt ist:"
      ],
      "metadata": {
        "id": "ikJ9Ok7QB50y"
      }
    },
    {
      "cell_type": "code",
      "metadata": {
        "id": "s4owfR5H-IbK"
      },
      "source": [
        "# Drop the column with all missung values\n",
        "df = df.___"
      ],
      "execution_count": null,
      "outputs": []
    },
    {
      "cell_type": "code",
      "metadata": {
        "id": "-93gC2kT-MDe"
      },
      "source": [
        "df.___"
      ],
      "execution_count": null,
      "outputs": []
    },
    {
      "cell_type": "markdown",
      "source": [
        "Um den Datensatz in den Algorithmus einführen zu können, muss zudem die Diagnose-Spalte, welche mit \"M\" und \"B\" kodiert ist, in \"0\" und \"1\" überführt werden. Dies geht am einfachsten mit dem \"LabelEncoder\".\n",
        "\n",
        "Beachte, dass wir nun die relevante Spalte auswählen müssen. Zeilen und Spalten von dataframes wählt man mit dem Befehl `.iloc[]` aus. Wie das funktoniert, lässt sich am besten anhhand von Beispielen erlernen:\n",
        "```\n",
        "Single selections using iloc and DataFrame\n",
        "Rows:\n",
        "data.iloc[0] # first row of data frame\n",
        "data.iloc[1] # second row of data frame\n",
        "data.iloc[-1] # last row of data frame\n",
        "\n",
        "Columns:\n",
        "data.iloc[:,0] # first column of data frame\n",
        "data.iloc[:,1] # second column of data frame\n",
        "data.iloc[:,-1] # last column of data frame\n",
        "```\n",
        "Dies kann man nun auch für unsere Zwecke verwenden:"
      ],
      "metadata": {
        "id": "IOexVBggMizv"
      }
    },
    {
      "cell_type": "code",
      "metadata": {
        "id": "0gcvdcS_-4fv"
      },
      "source": [
        "#Enocde the categorical data values\n",
        "from sklearn.preprocessing import LabelEncoder\n",
        "labelencoder_Y = LabelEncoder()\n",
        "labelencoder_Y.fit_transform(df.iloc[:,1].values)\n",
        "# Add the categorical data to our df\n",
        "df.iloc[:,1] = labelencoder_Y.fit_transform(df.iloc[:,1].values)"
      ],
      "execution_count": null,
      "outputs": []
    },
    {
      "cell_type": "markdown",
      "source": [
        "## Erneute explorative Analyse\n",
        "\n",
        "Jetzt lohnt es sich eigentlich schon, nochmal einen Blick auf die gesamte Tabelle mit den überarbeiteten Spalten zu werfen:"
      ],
      "metadata": {
        "id": "ExdN-STd541A"
      }
    },
    {
      "cell_type": "code",
      "metadata": {
        "id": "2SJMuqlW_M71"
      },
      "source": [
        "# Print the firt 5 rows of the new data\n",
        "df.___"
      ],
      "execution_count": null,
      "outputs": []
    },
    {
      "cell_type": "markdown",
      "source": [
        "Bevor man mittels machine learning Algorithmen potentielle Beziehungen bzw. Zusammenhänge untersucht, kann man sich mögliche Korrelationen in einer Heatmap darstellen lassen.\n",
        "\n",
        "Hierzu wenden wir `.corr(`) auf die relevanten Spalten des Datensatzes an, ehe dann durch `sns.heatmap()` eine Heatmap konstruiert werden kann."
      ],
      "metadata": {
        "id": "FECM-Qrj6tqJ"
      }
    },
    {
      "cell_type": "code",
      "metadata": {
        "id": "WFHcCcD0_eLo"
      },
      "source": [
        "# Get the correlation of the columns and get rif of the id column\n",
        "df.___"
      ],
      "execution_count": null,
      "outputs": []
    },
    {
      "cell_type": "code",
      "metadata": {
        "id": "uGkTl4j-_wGV"
      },
      "source": [
        "# Visualize the correlation\n",
        "plt.figure(figsize=(10,10))\n",
        "sns.heatmap(df.iloc[:, 1:12].corr(), annot=True, fmt=\".0%\")"
      ],
      "execution_count": null,
      "outputs": []
    },
    {
      "cell_type": "markdown",
      "source": [
        "## Endlich der machine learning Teil...\n",
        "Zunächst wird der Datensatz gesplittet:\n",
        "\n",
        "Y soll ein dataframe mit der Zielvariable sein;\n",
        "\n",
        "X dagegen ein dataframe mit allen anderen Parametern.\n",
        "\n",
        "Nutze dazu `.iloc[].values`:"
      ],
      "metadata": {
        "id": "tU1eHpLk-Lwy"
      }
    },
    {
      "cell_type": "code",
      "metadata": {
        "id": "foAQ-GLUAfOP"
      },
      "source": [
        "# Split the data set into dependant (X) and dependent (Y) data sets\n",
        "X = df.___\n",
        "Y = df.___"
      ],
      "execution_count": null,
      "outputs": []
    },
    {
      "cell_type": "markdown",
      "source": [
        "Anschließend wird der gesamte Datensatz in Trainings- und Testdatensatz geteilt. Dies geht durch den Befehl `train_test_split`."
      ],
      "metadata": {
        "id": "f0FUMhly-3Op"
      }
    },
    {
      "cell_type": "code",
      "metadata": {
        "id": "yOqW-zPqA4_P"
      },
      "source": [
        "# Split the data set into 75% training and 25% testing\n",
        "from sklearn.model_selection import train_test_split\n",
        "X_train, X_test, Y_train, Y_test = train_test_split(X, Y, test_size = 0.25, random_state = 0)"
      ],
      "execution_count": null,
      "outputs": []
    },
    {
      "cell_type": "markdown",
      "source": [
        "Häufig werden die Parameter auch standardisiert. Man spricht auch vom \"Feautre Scaling\". Auch dafür gibt es bereits einen praktischen Befehl: `.fit_transform()`."
      ],
      "metadata": {
        "id": "B5iFEPod_NJY"
      }
    },
    {
      "cell_type": "code",
      "metadata": {
        "id": "7_Ui1Dm2BLuG"
      },
      "source": [
        "# Scale the data (Feature Scaling)\n",
        "from sklearn.preprocessing import StandardScaler\n",
        "sc = StandardScaler()\n",
        "X_train = sc.fit_transform(X_train)\n",
        "X_test = sc.fit_transform(X_test)\n",
        "\n",
        "print(X_train)"
      ],
      "execution_count": null,
      "outputs": []
    },
    {
      "cell_type": "markdown",
      "source": [
        "Kommen wir nun zum wirklich spannendsten Teil: Dem Trainingsprozess:"
      ],
      "metadata": {
        "id": "L5zH1TwK_oth"
      }
    },
    {
      "cell_type": "code",
      "metadata": {
        "id": "CUNHohg_BX7g"
      },
      "source": [
        "# Create a function for the models\n",
        "def models(X_train, Y_train):\n",
        "\n",
        "  # Logistic Regression\n",
        "  from sklearn.linear_model import LogisticRegression\n",
        "  log = LogisticRegression(random_state = 0)\n",
        "  log.fit(X_train, Y_train)\n",
        "  print(\"[0]Logistic Regression Training Accuracy:\", log.score(X_train, Y_train))\n",
        "\n",
        "  # Decision Tree\n",
        "  from sklearn.tree import DecisionTreeClassifier\n",
        "  tree = DecisionTreeClassifier(criterion = \"entropy\", random_state = 0)\n",
        "  tree.fit(X_train, Y_train)\n",
        "  print(\"[1]Descision Tree Classifier Training Accuracy:\", tree.score(X_train, Y_train))\n",
        "\n",
        "  # Random Forest Classifier\n",
        "  from sklearn.ensemble import RandomForestClassifier\n",
        "  forest = RandomForestClassifier(n_estimators = 10, criterion = \"entropy\", random_state = 0)\n",
        "  forest.fit(X_train, Y_train)\n",
        "  print(\"[2]Random Foest Classifiert Training Accuracy:\", forest.score(X_train, Y_train))\n",
        "\n",
        "  return log, tree, forest\n",
        "\n",
        "# Getting all of the models\n",
        "model = models(X_train, Y_train)"
      ],
      "execution_count": null,
      "outputs": []
    },
    {
      "cell_type": "markdown",
      "source": [
        "Als letztes geben wir noch eine confusion_matrix heraus:"
      ],
      "metadata": {
        "id": "KQcZkDoT_vn6"
      }
    },
    {
      "cell_type": "code",
      "metadata": {
        "id": "x7WpbfYeCPIK"
      },
      "source": [
        "# Test model accuracy on confusion matrix\n",
        "from sklearn.metrics import confusion_matrix\n",
        "\n",
        "for i in range (len(model)):\n",
        "  print(\"Model\", i)\n",
        "  cm = confusion_matrix(Y_test, model[i].predict(X_test))\n",
        "  TP = cm[0][0]\n",
        "  TN = cm[1][1]\n",
        "  FN = cm[1][0]\n",
        "  FP = cm[0][1]\n",
        "\n",
        "  print(cm)\n",
        "print(\"Testing Accuracy =\", (TP + TN)/ (TP + TN + FN + FP))"
      ],
      "execution_count": null,
      "outputs": []
    }
  ]
}