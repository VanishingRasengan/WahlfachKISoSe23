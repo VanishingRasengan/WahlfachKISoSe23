{
  "cells": [
    {
      "cell_type": "markdown",
      "metadata": {
        "id": "view-in-github",
        "colab_type": "text"
      },
      "source": [
        "<a href=\"https://colab.research.google.com/github/VanishingRasengan/WahlfachKISoSe23/blob/main/Hausaufgabe1_L%C3%B6sungen.ipynb\" target=\"_parent\"><img src=\"https://colab.research.google.com/assets/colab-badge.svg\" alt=\"Open In Colab\"/></a>"
      ]
    },
    {
      "metadata": {
        "dc": {
          "key": "4"
        },
        "deletable": false,
        "editable": false,
        "run_control": {
          "frozen": true
        },
        "tags": [
          "context"
        ],
        "id": "d2NzDe2zyLGp"
      },
      "cell_type": "markdown",
      "source": [
        "## 1. Laden der Daten in ein dictionary\n",
        "\n",
        "Netflix! Was 1997 als DVD-Verleih begann, hat sich seither zum größten Unterhaltungs- und Medienunternehmen nach Marktkapitalisierung entwickelt, das im Januar 2021 über 200 Millionen Abonnenten haben wird.\n",
        "\n",
        "Angesichts der großen Anzahl von Filmen und Serien, die auf der Plattform verfügbar sind, ist dies eine perfekte Gelegenheit, unsere Fähigkeiten in der Datenmanipulation zu testen, die wir in den ersten zwei Wahlfachterminen erlernt haben!\n",
        "\n",
        "Im folgenden werden wir mit einer CSV-Datei mit Netflix-Daten arbeiten und analysieren, ob die durchschnittliche Dauer von Filmen abgenommen hat.\n",
        "\n",
        "Als Beweis dafür haben wir folgende Informationen zur Verfügung: Für die Jahre 2011 bis 2020 liegt die durchschnittliche Filmdauer bei 103, 101, 99, 100, 100, 95, 95, 96, 93 bzw. 90.\n",
        "\n",
        "Datenanalyse und -manipulation geht am einfachsten mit der pandas library. Aber zuerst müssen wir ein DataFrame von Grund auf erstellen. Beginnen wir daher zunächst mit der Erstellung eines Python-Objekts: einem Wörterbuch!"
      ]
    },
    {
      "metadata": {
        "dc": {
          "key": "4"
        },
        "tags": [
          "sample_code"
        ],
        "trusted": false,
        "id": "QOfylg-tyLGr"
      },
      "cell_type": "code",
      "source": [
        "# Create the years and durations lists\n",
        "years = [2011, 2012, 2013, 2014, 2015, 2016, 2017, 2018, 2019, 2020]\n",
        "durations = [103, 101, 99, 100, 100, 95, 95, 96, 93, 90]\n",
        "\n",
        "# Create a dictionary with the two lists\n",
        "movie_dict = {'years': years, 'durations': durations}\n",
        "\n",
        "# Print the dictionary\n",
        "movie_dict"
      ],
      "execution_count": null,
      "outputs": []
    },
    {
      "metadata": {
        "dc": {
          "key": "11"
        },
        "deletable": false,
        "editable": false,
        "run_control": {
          "frozen": true
        },
        "tags": [
          "context"
        ],
        "id": "4iaNv30syLGs"
      },
      "cell_type": "markdown",
      "source": [
        "## 2. Erstellen eines DataFrame aus einem Wörterbuch\n",
        "\n",
        "Um unser dictionary movie_dict in einen Pandas DataFrame zu konvertieren, müssen wir zunächst die library unter ihrem üblichen Alias importieren. Außerdem müssen wir unseren DataFrame überprüfen, um sicherzustellen, dass dieser korrekt erstellt wurde:"
      ]
    },
    {
      "metadata": {
        "dc": {
          "key": "11"
        },
        "tags": [
          "sample_code"
        ],
        "trusted": false,
        "collapsed": true,
        "id": "hSjXCC3MyLGs"
      },
      "cell_type": "code",
      "source": [
        "# Import pandas under its usual alias\n",
        "import pandas as pd\n",
        "\n",
        "# Create a DataFrame from the dictionary\n",
        "durations_df = pd.DataFrame(movie_dict)\n",
        "\n",
        "# Print the DataFrame\n",
        "durations_df"
      ],
      "execution_count": null,
      "outputs": []
    },
    {
      "metadata": {
        "dc": {
          "key": "18"
        },
        "deletable": false,
        "editable": false,
        "run_control": {
          "frozen": true
        },
        "tags": [
          "context"
        ],
        "id": "dI8pSGdMyLGt"
      },
      "cell_type": "markdown",
      "source": [
        "## 3. Visuelle Darstellung unserer Daten\n",
        "Sehr gut, wir haben jetzt einen Pandas DataFrame, die gängigste Art, mit tabular data in Python zu arbeiten. Nun zurück zu unserer Aufgabe. Wir wollen der Behauptung nachgehen, dass die Filmlänge im Laufe der Zeit abgenommen hat. Durch eine Visualisierung der Daten können wir einene ersten Trend abschätzen.\n",
        "\n",
        "Da es sich um kontinuierliche Daten handelt, wäre ein line plot eine gute Wahl, bei dem die years auf der x-Achse und die durations in Minuten auf der y-Achse dargestellt werden. Auf diese Weise lassen sich Trends in der Filmdauer leicht erkennen. Es gibt viele Möglichkeiten, Daten in Python zu visualisieren, aber matploblib.pyplot ist eines der gebräuchlichsten Pakete, um dies zu tun.\n",
        "\n",
        "Hinweis: Damit wir Ihre Darstellung korrekt testen können, müsst ihr ein matplotlib.pyplot Figure-Objekt initialisieren, das ich euch bereits in der Zelle unten bereitgestellt habe."
      ]
    },
    {
      "metadata": {
        "dc": {
          "key": "18"
        },
        "tags": [
          "sample_code"
        ],
        "trusted": false,
        "id": "opztQla7yLGt"
      },
      "cell_type": "code",
      "source": [
        "# Import matplotlib.pyplot under its usual alias and create a figure\n",
        "import matplotlib.pyplot as plt\n",
        "fig = plt.figure()\n",
        "\n",
        "# Draw a line plot of release_years and durations\n",
        "plt.plot(durations_df['years'], durations_df['durations'])\n",
        "\n",
        "# Create a title\n",
        "plt.title(\"Netflix Movie Durations 2011-2020\")\n",
        "\n",
        "# Show the plot\n",
        "plt.show()"
      ],
      "execution_count": null,
      "outputs": []
    },
    {
      "metadata": {
        "dc": {
          "key": "25"
        },
        "deletable": false,
        "editable": false,
        "run_control": {
          "frozen": true
        },
        "tags": [
          "context"
        ],
        "id": "K5gBJ6vOyLGu"
      },
      "cell_type": "markdown",
      "source": [
        "## 4. Laden der restlichen Daten aus einer CSV-Datei\n",
        "\n",
        "Es sieht tatsächlich danach aus, als ob etwas an der These dran ist, dass die Filmlänge in den letzten zehn Jahren abgenommen hat! Um dieser These weiter nachzugehen, müssen wir die Analysen ausweiten.\n",
        "\n",
        "Wir haben nun Zugriff auf die CSV-Datei, die deutlich mehr Spielraum für Analysen bietet. Wir erstellen nun einen weiteren DataFrame und werfen einen ersten Blick auf diesen, indem wir die ersten fünf Zeilen ausgeben lassen."
      ]
    },
    {
      "metadata": {
        "dc": {
          "key": "25"
        },
        "tags": [
          "sample_code"
        ],
        "trusted": false,
        "id": "W2PiWB7myLGu"
      },
      "cell_type": "code",
      "source": [
        "# Read in the CSV as a DataFrame\n",
        "url = 'https://raw.githubusercontent.com/VanishingRasengan/WahlfachKISoSe23/main/datasets/netflix_data.csv'\n",
        "netflix_df = pd.read_csv(url)\n",
        "\n",
        "# Print the first five rows of the DataFrame\n",
        "netflix_df[0:5]"
      ],
      "execution_count": null,
      "outputs": []
    },
    {
      "metadata": {
        "dc": {
          "key": "32"
        },
        "deletable": false,
        "editable": false,
        "run_control": {
          "frozen": true
        },
        "tags": [
          "context"
        ],
        "id": "C2Ik0EjGyLGu"
      },
      "cell_type": "markdown",
      "source": [
        "## 5. Filtern nach Filmen!\n",
        "\n",
        "Super, endlich haben wir unsere Daten! Jetzt können wir eintauchen und uns die Filmlängen genauer anschauen.\n",
        "\n",
        "Oder können wir das? Wenn wir uns die ersten fünf Zeilen unseres neuen DataFrame ansehen, fällt uns die Spalte \"type\" auf. Beim Betrachten der Spalte wird deutlich, dass der Datensatz auch Fernsehsendungen enthält! Außerdem scheint die Spalte \"duration\", die wir verwenden wollten, unterschiedliche Werte zu repräsentieren, je nachdem, ob es sich bei der Zeile um einen Film oder eine Serie handelt (vielleicht die Anzahl der Minuten oder die Anzahl der Staffeln)?\n",
        "\n",
        "Glücklicherweise ermöglicht ein DataFrame das schnelle Filtern von Daten, und wir können Zeilen auswählen, deren type \"Movie\" ist. Wenn wir schon dabei sind: Wir brauchen auch nicht die Informationen aus allen Spalten, also erstellen wir einen neuen DataFrame netflix_movies, der nur 'title', 'country', 'genre', 'release_year', 'duration' enthält.\n",
        "\n",
        "Lassen Sie uns unsere data subsetting skills einsetzen!"
      ]
    },
    {
      "metadata": {
        "dc": {
          "key": "32"
        },
        "tags": [
          "sample_code"
        ],
        "trusted": false,
        "id": "Nu1PUaRiyLGu"
      },
      "cell_type": "code",
      "source": [
        "# Subset the DataFrame for type \"Movie\"\n",
        "netflix_df_movies_only = netflix_df[netflix_df['type'] == 'Movie']\n",
        "\n",
        "# Select only the columns of interest\n",
        "netflix_movies_col_subset = netflix_df_movies_only[['title', 'country', 'genre', 'release_year', 'duration']]\n",
        "\n",
        "# Print the first five rows of the new DataFrame\n",
        "netflix_movies_col_subset[0:5]"
      ],
      "execution_count": null,
      "outputs": []
    },
    {
      "metadata": {
        "dc": {
          "key": "39"
        },
        "deletable": false,
        "editable": false,
        "run_control": {
          "frozen": true
        },
        "tags": [
          "context"
        ],
        "id": "NmuhJ0YDyLGu"
      },
      "cell_type": "markdown",
      "source": [
        "## 6. Creating a scatter plot\n",
        "Okay, jetzt kommen wir weiter. Wir haben die Rohdaten eingelesen, Filmzeilen ausgewählt und unseren DataFrame auf die für uns interessanten Spalten beschränkt. Versuchen wir nun, die Daten erneut zu visualisieren, um die Daten über einen längeren Zeitraum zu untersuchen.\n",
        "\n",
        "Diesmal arbeiten wir nicht mehr mit \"aggregierten Daten\", sondern mit einzelnen Filmen. Ein  line plot ist für unsere Daten daher nicht mehr geeignet, also versuchen wir es stattdessen mit einem scatter plot. Wir werden wieder das Jahr der Veröffentlichung auf der x-Achse und die Filmdauer auf der y-Achse darstellen."
      ]
    },
    {
      "metadata": {
        "dc": {
          "key": "39"
        },
        "tags": [
          "sample_code"
        ],
        "trusted": false,
        "id": "QYcOdQA2yLGv"
      },
      "cell_type": "code",
      "source": [
        "# Create a figure and increase the figure size\n",
        "fig = plt.figure(figsize=(12,8))\n",
        "\n",
        "# Create a scatter plot of duration versus year\n",
        "plt.scatter(netflix_movies_col_subset[\"release_year\"], netflix_movies_col_subset[\"duration\"])\n",
        "\n",
        "# Create a title\n",
        "plt.title(\"Movie Duration by Year of Release\")\n",
        "\n",
        "# Show the plot\n",
        "plt.show()"
      ],
      "execution_count": null,
      "outputs": []
    },
    {
      "metadata": {
        "dc": {
          "key": "46"
        },
        "deletable": false,
        "editable": false,
        "run_control": {
          "frozen": true
        },
        "tags": [
          "context"
        ],
        "id": "mEAH_yeGyLGv"
      },
      "cell_type": "markdown",
      "source": [
        "## 7. Weiter geht's\n",
        "Das ist schon viel aufschlussreicher als die einfache Grafik, die wir zu Beginn erstellt haben. Wir können auch sehen, dass neuere Filme auf der Plattform überrepräsentiert sind und viele Kurzfilme in den letzten zwei Jahrzehnten veröffentlicht wurden.\n",
        "\n",
        "Bei näherer Betrachtung fällt noch etwas anderes auf: Einige dieser Filme sind weniger als eine Stunde lang! Filtern wir unseren DataFrame nach Filmen mit einer Dauer von weniger als 60 Minuten und sehen wir uns die Genres an. Dies könnte uns Aufschluss darüber geben, was den Durchschnitt nach unten zieht."
      ]
    },
    {
      "metadata": {
        "dc": {
          "key": "46"
        },
        "tags": [
          "sample_code"
        ],
        "trusted": false,
        "id": "5waHpp1EyLGv"
      },
      "cell_type": "code",
      "source": [
        "# Filter for durations shorter than 60 minutes\n",
        "short_movies = netflix_movies_col_subset[netflix_movies_col_subset['duration'] < 60]\n",
        "\n",
        "# Print the first 20 rows of short_movies\n",
        "short_movies[0:20]"
      ],
      "execution_count": null,
      "outputs": []
    },
    {
      "metadata": {
        "dc": {
          "key": "53"
        },
        "deletable": false,
        "editable": false,
        "run_control": {
          "frozen": true
        },
        "tags": [
          "context"
        ],
        "id": "yq8HjaO7yLGw"
      },
      "cell_type": "markdown",
      "source": [
        "## 8. Marking non-feature films\n",
        "Interessant! Es sieht so aus, als ob viele der Filme, die weniger als 60 Minuten lang sind, in Genres wie \"Kinder\", \"Stand-Up\" und \"Dokumentarfilme\" fallen. Dies ist ein logisches Ergebnis, da diese Arten von Filmen wahrscheinlich oft kürzer sind als 90-minütige Hollywood-Blockbuster.\n",
        "\n",
        "Wir könnten diese Zeilen aus unserem DataFrame eliminieren und die Werte erneut darstellen. Eine andere interessante Möglichkeit, die Auswirkungen dieser Genres auf unsere Daten zu untersuchen, wäre es, sie zwar miteinzubeziehen, sie jedoch mit einer anderen Farbe zu markieren.\n",
        "\n",
        "In Python gibt es dafür viele Möglichkeiten, aber ihr sollt das am besten mit einer Schleife üben, um eine Liste von Farben basierend auf dem Inhalt der Genre-Spalte zu erzeugen. Dieser Liste können wir dann in einem späteren Schritt an unsere Plotting-Funktion übergeben, um alle untypischen Genres in einer anderen Farbe zu markieren!"
      ]
    },
    {
      "metadata": {
        "dc": {
          "key": "53"
        },
        "tags": [
          "sample_code"
        ],
        "trusted": false,
        "collapsed": true,
        "id": "FtyYkm9YyLGw"
      },
      "cell_type": "code",
      "source": [
        "# Define an empty list\n",
        "colors = []\n",
        "\n",
        "# Iterate over rows of netflix_movies_col_subset\n",
        "for lab, row in netflix_movies_col_subset.iterrows():\n",
        "    if row['genre'] == \"Children\":\n",
        "        colors.append(\"red\")\n",
        "    elif row['genre'] == \"Documentaries\":\n",
        "        colors.append(\"blue\")\n",
        "    elif row['genre'] == \"Stand-Up\":\n",
        "        colors.append(\"green\")\n",
        "    else:\n",
        "        colors.append(\"black\")\n",
        "\n",
        "# Inspect the first 10 values in your list\n",
        "colors[0:10]"
      ],
      "execution_count": null,
      "outputs": []
    },
    {
      "metadata": {
        "dc": {
          "key": "60"
        },
        "deletable": false,
        "editable": false,
        "run_control": {
          "frozen": true
        },
        "tags": [
          "context"
        ],
        "id": "D-cLXkFNyLGw"
      },
      "cell_type": "markdown",
      "source": [
        "## 9. Plotting with color!\n",
        "Hervorragend! Jetzt haben wir eine Farbliste, die wir an unseren scatter plot übergeben können. Damit können wir visuell überprüfen, ob diese Genres für den Rückgang der durchschnittlichen Filmdauer verantwortlich sein könnten.\n",
        "\n",
        "Diesmal werden wir auch unser Diagramm mit einigen zusätzlichen Achsenbeschriftungen und einem neuen theme mit plt.style.use() aufhübschen."
      ]
    },
    {
      "metadata": {
        "dc": {
          "key": "60"
        },
        "tags": [
          "sample_code"
        ],
        "trusted": false,
        "id": "3AfBVk_PyLGw"
      },
      "cell_type": "code",
      "source": [
        "# Set the figure style and initalize a new figure\n",
        "plt.style.use('fivethirtyeight')\n",
        "fig = plt.figure(figsize=(12,8))\n",
        "\n",
        "# Create a scatter plot of duration versus release_year\n",
        "plt.scatter(netflix_movies_col_subset[\"release_year\"], netflix_movies_col_subset[\"duration\"], c=colors)\n",
        "\n",
        "# Create a title and axis labels\n",
        "plt.title(\"Movie duration by year of release\")\n",
        "plt.xlabel(\"Release year\")\n",
        "plt.ylabel(\"Duration (min)\")\n",
        "\n",
        "# Show the plot\n",
        "plt.show()"
      ],
      "execution_count": null,
      "outputs": []
    },
    {
      "metadata": {
        "dc": {
          "key": "67"
        },
        "deletable": false,
        "editable": false,
        "run_control": {
          "frozen": true
        },
        "tags": [
          "context"
        ],
        "id": "b5A1XdboyLGx"
      },
      "cell_type": "markdown",
      "source": [
        "## 10. Ausblick\n",
        "Wie wir vermutet haben, sind die non-typical Genres wie Kinderfilme und Dokumentarfilme alle in der unteren Hälfte des Diagramms angesiedelt. Um unsere These aber wirklich zu beweisen, müssten wir statistische Tests durchführen - aber das ist fast schon ein eigenes Wahlfachthema Wert ;).\n",
        "\n",
        "Nächste Woche wird es richtig spannend: Wir lernen, lernen was machine-learning überhaupt ist und versuchen einen ersten Algorithmus zu programmieren. Seid gespannt!"
      ]
    }
  ],
  "metadata": {
    "kernelspec": {
      "name": "python3",
      "display_name": "Python 3",
      "language": "python"
    },
    "language_info": {
      "name": "python",
      "version": "3.6.7",
      "mimetype": "text/x-python",
      "codemirror_mode": {
        "name": "ipython",
        "version": 3
      },
      "pygments_lexer": "ipython3",
      "nbconvert_exporter": "python",
      "file_extension": ".py"
    },
    "colab": {
      "provenance": [],
      "toc_visible": true,
      "include_colab_link": true
    }
  },
  "nbformat": 4,
  "nbformat_minor": 0
}