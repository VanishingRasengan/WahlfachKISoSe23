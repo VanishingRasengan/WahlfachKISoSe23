{
  "nbformat": 4,
  "nbformat_minor": 0,
  "metadata": {
    "colab": {
      "provenance": [],
      "collapsed_sections": [
        "vlDOZfW1uKAn",
        "qmSs2gb9uKAu",
        "Jebhxy_-uKAr",
        "IiFzHRxAuKAh",
        "TqwSryb15u3b",
        "HoEFK1oCXUYh",
        "EphZCIVnZtE5",
        "rNMKr7J0blP5",
        "lZdy_OnXekvR",
        "9PHT3MDYe1pl",
        "SFgKRMRhjn-i",
        "gWc33_6sk9UC"
      ],
      "toc_visible": true,
      "authorship_tag": "ABX9TyMuDmPTH86zddpZhTc8D6cW",
      "include_colab_link": true
    },
    "kernelspec": {
      "name": "python3",
      "display_name": "Python 3"
    },
    "language_info": {
      "name": "python"
    }
  },
  "cells": [
    {
      "cell_type": "markdown",
      "metadata": {
        "id": "view-in-github",
        "colab_type": "text"
      },
      "source": [
        "<a href=\"https://colab.research.google.com/github/VanishingRasengan/WahlfachKISoSe23/blob/main/PythonfuerMedizinerL%C3%B6sungsversion.ipynb\" target=\"_parent\"><img src=\"https://colab.research.google.com/assets/colab-badge.svg\" alt=\"Open In Colab\"/></a>"
      ]
    },
    {
      "cell_type": "markdown",
      "source": [
        "# What is Python?\n",
        "\n",
        "Python is a modern, robust, high level programming language. It is very easy to pick up even if you are completely new to programming.\n",
        "\n",
        "- The most recent major version of Python is Python 3, which we shall be using in this tutorial.\n",
        "- Python has a simple syntax similar to the English language.\n",
        "- Python uses new lines to complete a command.\n",
        "- Python relies on indentation, using whitespace, to define scope; such as the scope of loops, functions and classes."
      ],
      "metadata": {
        "id": "f9qDa2hUzge5"
      }
    },
    {
      "cell_type": "markdown",
      "metadata": {
        "id": "asFyxzN8uKAY"
      },
      "source": [
        "# Python Syntax\n",
        "\n",
        "It is important to know how to write lines of code in Python.\n"
      ]
    },
    {
      "cell_type": "markdown",
      "source": [
        "## Indentation\n",
        "\n",
        "Indentation refers to the spaces at the beginning of a code line.\n",
        "\n",
        "Where in other programming languages the indentation in code is for readability only, the indentation in Python is very important.\n",
        "\n",
        "Python uses indentation to indicate a block of code."
      ],
      "metadata": {
        "id": "6cebcVLj0-1J"
      }
    },
    {
      "cell_type": "code",
      "execution_count": null,
      "metadata": {
        "id": "fpL_nlIcuKAZ"
      },
      "outputs": [],
      "source": [
        "if 5 > 2:\n",
        "    print(\"Five is greater than two!\")"
      ]
    },
    {
      "cell_type": "markdown",
      "metadata": {
        "id": "oJ_JdIkvuKAZ"
      },
      "source": [
        "Python will give you an error if you skip the indentation:"
      ]
    },
    {
      "cell_type": "code",
      "execution_count": null,
      "metadata": {
        "id": "5YIVU-ZmuKAb"
      },
      "outputs": [],
      "source": [
        "if 5 > 2:\n",
        "print(\"Five is greater than two!\")"
      ]
    },
    {
      "cell_type": "markdown",
      "metadata": {
        "id": "3HdhQiHPuKAb"
      },
      "source": [
        "## Comments\n",
        "\n",
        "Python has commenting capability for the purpose of in-code documentation.\n",
        "\n",
        "Comments start with a **#**, and Python will render the rest of the line as a comment:"
      ]
    },
    {
      "cell_type": "code",
      "execution_count": null,
      "metadata": {
        "id": "daYsBBqMuKAc",
        "colab": {
          "base_uri": "https://localhost:8080/"
        },
        "outputId": "75729ccc-4780-4289-9916-d02fe9ecccdb"
      },
      "outputs": [
        {
          "output_type": "stream",
          "name": "stdout",
          "text": [
            "Hello, World!\n"
          ]
        }
      ],
      "source": [
        "#This is a comment.\n",
        "print(\"Hello, World!\")"
      ]
    },
    {
      "cell_type": "markdown",
      "metadata": {
        "id": "6WYhH5ufuKAc"
      },
      "source": [
        "# Python Variables\n",
        "\n",
        "Variables are reserved memory locations to store values. This means that when you create a variable you reserve some space in your computer memory.\n",
        "\n",
        "Python variables do not need explicit declaration to reserve memory space. The declaration happens automatically when you assign a value to a variable. The equal sign (=) is used to assign values to variables.\n",
        "\n",
        "The operand to the left of the = operator is the name of the variable and the operand to the right of the = operator is the value stored in the variable."
      ]
    },
    {
      "cell_type": "code",
      "execution_count": null,
      "metadata": {
        "id": "U6_8uaUWuKAd"
      },
      "outputs": [],
      "source": [
        "x = 5\n",
        "y = \"John\"\n",
        "\n",
        "print(x)\n",
        "print(y)"
      ]
    },
    {
      "cell_type": "markdown",
      "metadata": {
        "id": "1KNUVGjNuKAd"
      },
      "source": [
        "Variables can be str(Strings), int(integers), float(decimal point numbers) and many more.\n",
        "\n",
        "We show a few common examples.\n"
      ]
    },
    {
      "cell_type": "code",
      "execution_count": null,
      "metadata": {
        "id": "auXxOzXUuKAe"
      },
      "outputs": [],
      "source": [
        "x = 4 # x is of type int\n",
        "y = \"Sally\" # y is of type str\n",
        "z = 4.0 # z is of type float\n",
        "\n",
        "print(x)\n",
        "print(y)\n",
        "print(z)"
      ]
    },
    {
      "cell_type": "markdown",
      "metadata": {
        "id": "QC8swoNpuKAe"
      },
      "source": [
        "Variables do not need to be declared with any particular type and can even change type after they have been set."
      ]
    },
    {
      "cell_type": "code",
      "execution_count": null,
      "metadata": {
        "id": "Q2sJH59TuKAe"
      },
      "outputs": [],
      "source": [
        "x = 4 # x is of type int\n",
        "x = \"Sally\" # x is now of type str\n",
        "print(x)"
      ]
    },
    {
      "cell_type": "markdown",
      "metadata": {
        "id": "W8lL0C-kuKAf"
      },
      "source": [
        "**Note**\n",
        "\n",
        "To declare a string you can use either \"...\" or '...'.\n",
        "\n",
        "Single (') and double (\") quotes are equivalent in Python."
      ]
    },
    {
      "cell_type": "markdown",
      "source": [
        "## Exercise\n",
        "You can also do some calculations with variables:\n",
        "\n",
        "- Create a variable growth_multiplier, equal to 1.1.\n",
        "- Create a variable, result, equal to the amount of money you saved after 7 years.\n",
        "- Print out the value of result.\n"
      ],
      "metadata": {
        "id": "HLWMNMPDI1RF"
      }
    },
    {
      "cell_type": "code",
      "source": [
        "# Create a variable savings\n",
        "savings = 100\n",
        "\n",
        "# Create a variable growth_multiplier\n",
        "growth_multiplier = 1.1\n",
        "\n",
        "# Calculate result\n",
        "result = savings * growth_multiplier**7\n",
        "\n",
        "# Print out result\n",
        "print(result)"
      ],
      "metadata": {
        "id": "5u0d6N1uJFcd"
      },
      "execution_count": null,
      "outputs": []
    },
    {
      "cell_type": "markdown",
      "metadata": {
        "id": "b_1VLCPuuKAf"
      },
      "source": [
        "# The Print Statement\n",
        "\n",
        "A **function** is a set of statements that take inputs, do some specific computation and produces output. More about it is explained in the Lists section.\n",
        "\n",
        "The print() is a built in function  which displays all of its inputs as strings, separated by spaces and follows by a linebreak:"
      ]
    },
    {
      "cell_type": "code",
      "execution_count": null,
      "metadata": {
        "id": "ddlltkcvuKAf"
      },
      "outputs": [],
      "source": [
        "print(\"Hello\",\"World\")"
      ]
    },
    {
      "cell_type": "markdown",
      "metadata": {
        "id": "Sxv2WrFzuKAg"
      },
      "source": [
        "## Printing variables"
      ]
    },
    {
      "cell_type": "code",
      "execution_count": null,
      "metadata": {
        "id": "KW36TRTyuKAg"
      },
      "outputs": [],
      "source": [
        "string1='World'\n",
        "string2='!'\n",
        "print('Hello' + string1 + string2)"
      ]
    },
    {
      "cell_type": "markdown",
      "metadata": {
        "id": "aWbWb6V-uKAg"
      },
      "source": [
        "A easy way to print variables is by using .format() function. This is also a built in python function.\n",
        "\n"
      ]
    },
    {
      "cell_type": "code",
      "execution_count": null,
      "metadata": {
        "id": "oTHf0TS0uKAg"
      },
      "outputs": [],
      "source": [
        "name = \"Tobias\"\n",
        "\n",
        "print(\" Hello, I am {}\".format(name))"
      ]
    },
    {
      "cell_type": "markdown",
      "metadata": {
        "id": "DNSRY3sHuKAh"
      },
      "source": [
        "## Exercise\n",
        "\n",
        "Try to store your name and age in variables and print the output. Fill out the missing parts to run the two cells below successufully."
      ]
    },
    {
      "cell_type": "code",
      "execution_count": null,
      "metadata": {
        "id": "G2XltdTVuKAh"
      },
      "outputs": [],
      "source": [
        "name = \"Sai\"\n",
        "age = \"23\""
      ]
    },
    {
      "cell_type": "code",
      "execution_count": null,
      "metadata": {
        "id": "xVgRca5duKAh"
      },
      "outputs": [],
      "source": [
        "print(\"I am {} and my age is {}\".format(name, age))"
      ]
    },
    {
      "cell_type": "markdown",
      "metadata": {
        "id": "-qt4JDYvuKAk"
      },
      "source": [
        "# Lists\n",
        "\n",
        "Lists are the most commonly used data structure. Think of it as a sequence of data that is enclosed in square brackets and data are separated by a comma. Each of these data can be accessed by calling it's index value.\n",
        "\n",
        "Lists are declared by just equating a variable to '[ ]' or list."
      ]
    },
    {
      "cell_type": "code",
      "execution_count": null,
      "metadata": {
        "id": "4DD8MMtwuKAk"
      },
      "outputs": [],
      "source": [
        "a = []\n",
        "\n",
        "type(a)"
      ]
    },
    {
      "cell_type": "markdown",
      "metadata": {
        "id": "F_0IiIiouKAk"
      },
      "source": [
        "## Indexing\n",
        "\n",
        "In python, indexing starts from 0 as already seen for strings. Thus now the list x, which has two elements will have apple at 0 index and orange at 1 index."
      ]
    },
    {
      "cell_type": "code",
      "execution_count": null,
      "metadata": {
        "id": "7iB8lj25uKAl"
      },
      "outputs": [],
      "source": [
        "x = ['apple', 'orange']\n",
        "\n",
        "x[0]"
      ]
    },
    {
      "cell_type": "markdown",
      "metadata": {
        "id": "RjOHgcE6uKAl"
      },
      "source": [
        "Indexing can also be done in reverse order. That is the last element can be accessed first. Here, indexing starts from -1. Thus index value -1 will be orange and index -2 will be apple."
      ]
    },
    {
      "cell_type": "code",
      "execution_count": null,
      "metadata": {
        "id": "dbRTUni7uKAl"
      },
      "outputs": [],
      "source": [
        "x[-1]"
      ]
    },
    {
      "cell_type": "markdown",
      "metadata": {
        "id": "Qh_a5VTruKAl"
      },
      "source": [
        "## Slicing\n",
        "\n",
        "Slicing means accessing a sequence of data inside the list.\n",
        "\n",
        "Slicing is done by defining the index values of the first element and the last element from the parent list that is required in the sliced list. It is written as parentlist[ a : b ] where a,b are the index values from the parent list. If a or b is not defined then the index value is considered to be the first value for a if a is not defined and the last value for b when b is not defined."
      ]
    },
    {
      "cell_type": "code",
      "execution_count": null,
      "metadata": {
        "id": "xA_JHO3HuKAl"
      },
      "outputs": [],
      "source": [
        "num = [0,1,2,3,4,5,6,7,8,9]\n",
        "print(num[0:4])\n",
        "print(num[4:])"
      ]
    },
    {
      "cell_type": "markdown",
      "metadata": {
        "id": "Fxef17pguKAl"
      },
      "source": [
        "## Reassigning Values\n",
        "\n",
        "You can change values of any index of a list.\n"
      ]
    },
    {
      "cell_type": "code",
      "execution_count": null,
      "metadata": {
        "id": "MIWArpr2uKAm"
      },
      "outputs": [],
      "source": [
        "num[0] = 10\n",
        "\n",
        "print(num)"
      ]
    },
    {
      "cell_type": "markdown",
      "metadata": {
        "id": "eAc9gc6TuKAm"
      },
      "source": [
        "But you cannot assign values to a index which is more than the length of the list."
      ]
    },
    {
      "cell_type": "code",
      "execution_count": null,
      "metadata": {
        "id": "btdkOGIkuKAn"
      },
      "outputs": [],
      "source": [
        "num[11] = 11\n",
        "print(num)"
      ]
    },
    {
      "cell_type": "markdown",
      "metadata": {
        "id": "25N5Aj03uKAn"
      },
      "source": [
        "To add more values to end of list we can use append(). We show how .append() works below."
      ]
    },
    {
      "cell_type": "markdown",
      "metadata": {
        "id": "vlDOZfW1uKAn"
      },
      "source": [
        "## Built in List Functions\n",
        "\n",
        "A **function** is a set of statements that take inputs, do some specific computation and produces output. Python provides **built-in functions** like print(), etc. but we can also create your own functions. These functions are called **user-defined functions**.\n",
        "\n",
        "Python list has a number of functions that are built in which are always available. Some of the most used ones are:\n",
        "- len()\n",
        "- max() or min()\n",
        "- sum()\n",
        "- append()\n",
        "- sort()"
      ]
    },
    {
      "cell_type": "markdown",
      "metadata": {
        "id": "XsNF0z_-uKAn"
      },
      "source": [
        "len(): To get the length of the list."
      ]
    },
    {
      "cell_type": "code",
      "execution_count": null,
      "metadata": {
        "id": "Vtpo-bsLuKAn"
      },
      "outputs": [],
      "source": [
        "num = [0,1,2,3,4,5,6,7,8,9]\n",
        "\n",
        "len(num)"
      ]
    },
    {
      "cell_type": "markdown",
      "metadata": {
        "id": "QbRVN9MguKAn"
      },
      "source": [
        "max(), min(): To get maximum and minimum values in the list."
      ]
    },
    {
      "cell_type": "code",
      "execution_count": null,
      "metadata": {
        "id": "yMP-fmmCuKAn"
      },
      "outputs": [],
      "source": [
        "print(max(num))\n",
        "\n",
        "print(min(num))"
      ]
    },
    {
      "cell_type": "markdown",
      "metadata": {
        "id": "w47boPEEuKAn"
      },
      "source": [
        "sum(): To calculate sum of all elements in the list."
      ]
    },
    {
      "cell_type": "code",
      "execution_count": null,
      "metadata": {
        "id": "uWRILXY3uKAo"
      },
      "outputs": [],
      "source": [
        "print(sum(num))"
      ]
    },
    {
      "cell_type": "markdown",
      "metadata": {
        "id": "DZFB6mq5uKAo"
      },
      "source": [
        "Remember we tried to add 11 to num list but got an error. We can use .append() instead.\n",
        "\n",
        "append(): Insert an element at the end of a list."
      ]
    },
    {
      "cell_type": "code",
      "execution_count": null,
      "metadata": {
        "id": "BrVDU8OauKAo"
      },
      "outputs": [],
      "source": [
        "num.append(11)\n",
        "print(num)"
      ]
    },
    {
      "cell_type": "markdown",
      "metadata": {
        "id": "9tj66CMwuKAo"
      },
      "source": [
        "sort(): To arrange the elements in ascending order."
      ]
    },
    {
      "cell_type": "code",
      "execution_count": null,
      "metadata": {
        "id": "uFC-X5fOuKAo"
      },
      "outputs": [],
      "source": [
        "num.sort()\n",
        "print(num)"
      ]
    },
    {
      "cell_type": "markdown",
      "metadata": {
        "id": "u1841zrpuKAo"
      },
      "source": [
        "## Exercise\n",
        "\n",
        "Print the second item in the fruits list."
      ]
    },
    {
      "cell_type": "code",
      "execution_count": null,
      "metadata": {
        "id": "qnPTTgKOuKAp"
      },
      "outputs": [],
      "source": [
        "fruits = [\"apple\", \"banana\", \"cherry\"]\n",
        "\n",
        "# print second item of the list\n",
        "print(fruits[1])"
      ]
    },
    {
      "cell_type": "markdown",
      "metadata": {
        "id": "D_Ub5DSruKAq"
      },
      "source": [
        "Add another fruit to the fruits list. Print the updated list.\n"
      ]
    },
    {
      "cell_type": "code",
      "execution_count": null,
      "metadata": {
        "id": "GwgLvR8FuKAq"
      },
      "outputs": [],
      "source": [
        "# add another fruit\n",
        "fruits.append(\"mango\")\n",
        "# print the updated list\n",
        "print(fruits)"
      ]
    },
    {
      "cell_type": "markdown",
      "source": [
        "\n",
        "Using a combination of list subsetting and variable assignment, create a new variable, eat_sleep_area, that contains the sum of the area of the kitchen and the area of the bedroom. Print the new variable eat_sleep_area.\n"
      ],
      "metadata": {
        "id": "_BJmzw6cLkDX"
      }
    },
    {
      "cell_type": "code",
      "source": [
        "# Create the areas list\n",
        "areas = [\"hallway\", 11.25, \"kitchen\", 18.0, \"living room\", 20.0, \"bedroom\", 10.75, \"bathroom\", 9.50]\n",
        "\n",
        "# Sum of kitchen and bedroom area: eat_sleep_area\n",
        "eat_sleep_area = areas[3] + areas[7]\n",
        "\n",
        "# Print the variable eat_sleep_area\n",
        "print(eat_sleep_area)"
      ],
      "metadata": {
        "id": "hK9bE7IWL692"
      },
      "execution_count": null,
      "outputs": []
    },
    {
      "cell_type": "markdown",
      "source": [
        "\n",
        "- Use slicing to create a list, downstairs, that contains the first 6 elements of areas.\n",
        "- Do a similar thing to create a new variable, upstairs, that contains the last 4 elements of areas.\n",
        "- Print both downstairs and upstairs using print()."
      ],
      "metadata": {
        "id": "jVDXW-wSMBG2"
      }
    },
    {
      "cell_type": "code",
      "source": [
        "# Create the areas list\n",
        "areas = [\"hallway\", 11.25, \"kitchen\", 18.0, \"living room\", 20.0, \"bedroom\", 10.75, \"bathroom\", 9.50]\n",
        "\n",
        "# Use slicing to create downstairs\n",
        "downstairs = areas[:6]\n",
        "\n",
        "# Use slicing to create upstairs\n",
        "upstairs = areas[-4:]\n",
        "\n",
        "# Print out downstairs and upstairs\n",
        "print(downstairs)\n",
        "print(upstairs)"
      ],
      "metadata": {
        "id": "yOKeqWwCMHW-"
      },
      "execution_count": null,
      "outputs": []
    },
    {
      "cell_type": "markdown",
      "source": [
        "\n",
        "- Update the area of the bathroom area to be 10.50 square meters instead of 9.50.\n",
        "- Make the areas list more trendy! Change \"living room\" to \"chill zone\"."
      ],
      "metadata": {
        "id": "SjfDWhwaMRl3"
      }
    },
    {
      "cell_type": "code",
      "source": [
        "# Create the areas list\n",
        "areas = [\"hallway\", 11.25, \"kitchen\", 18.0, \"living room\", 20.0, \"bedroom\", 10.75, \"bathroom\", 9.50]\n",
        "\n",
        "# Correct the bathroom area\n",
        "areas[-1] = 10.50\n",
        "\n",
        "# Change \"living room\" to \"chill zone\"\n",
        "areas[4] = \"chill zone\""
      ],
      "metadata": {
        "id": "E_YSYjAqMTjG"
      },
      "execution_count": null,
      "outputs": []
    },
    {
      "cell_type": "markdown",
      "metadata": {
        "id": "qmSs2gb9uKAu"
      },
      "source": [
        "# User-defined Functions\n",
        "\n",
        "User-defined Functions can represent mathematical functions. More importantly, in programmming functions are a mechansim to allow code to be re-used so that complex programs can be built up out of simpler parts."
      ]
    },
    {
      "cell_type": "code",
      "execution_count": null,
      "metadata": {
        "id": "ZGnG3m39uKAu"
      },
      "outputs": [],
      "source": [
        "def firstfunc():\n",
        "    print(\"Hello!\")\n",
        "    print(\"How are you?\")\n",
        "firstfunc() # execute the function"
      ]
    },
    {
      "cell_type": "markdown",
      "metadata": {
        "id": "l5kpdDiJuKAu"
      },
      "source": [
        "We can make our function firstfunc() to accept arguements which will store the name and then prints respective to that accepted name. To do so, add a argument within the function as shown."
      ]
    },
    {
      "cell_type": "code",
      "execution_count": null,
      "metadata": {
        "id": "8S9BUWzDuKAu"
      },
      "outputs": [],
      "source": [
        "def firstfunc(username):\n",
        "    print(\"Hello {}.\" .format(username))\n",
        "\n",
        "firstfunc(\"Tobias\")"
      ]
    },
    {
      "cell_type": "markdown",
      "metadata": {
        "id": "dE4Dbo5tuKAv"
      },
      "source": [
        "## Return Statement\n",
        "\n",
        "When the function results in some value and that value has to be stored in a variable or needs to be sent back or returned for further operation to the main algorithm, a return statement is used."
      ]
    },
    {
      "cell_type": "code",
      "execution_count": null,
      "metadata": {
        "id": "3Q86gf0XuKAv"
      },
      "outputs": [],
      "source": [
        "def times(x,y):\n",
        "    z = x*y\n",
        "    return z\n",
        "\n",
        "c = times(4,5)\n",
        "print(c)"
      ]
    },
    {
      "cell_type": "markdown",
      "metadata": {
        "id": "a5eX5dhMuKAv"
      },
      "source": [
        "## Exercise\n",
        "\n",
        "Write a function to calculate Body Mass Index:\n",
        "\n",
        "Inputs are:\n",
        "- weight (kg)\n",
        "- height (m)\n",
        "\n",
        "Formula: $weight/(height)^2$"
      ]
    },
    {
      "cell_type": "code",
      "execution_count": null,
      "metadata": {
        "id": "ji-HjqsGuKAv"
      },
      "outputs": [],
      "source": [
        "BMI = None\n",
        "# Write your own function\n",
        "def calculate_bmi(weight, height):\n",
        "    return weight/(height**2)\n",
        "\n",
        "BMI = calculate_bmi(50, 1.70)\n",
        "\n",
        "print(\"Your BMI is: {}\".format(BMI))"
      ]
    },
    {
      "cell_type": "markdown",
      "metadata": {
        "id": "Jebhxy_-uKAr"
      },
      "source": [
        "# Dictionary\n",
        "\n",
        "A dictionary is a collection which is unordered, changeable and indexed.\n",
        "\n",
        "In Python dictionaries are written with curly brackets, and they have keys and values."
      ]
    },
    {
      "cell_type": "code",
      "execution_count": null,
      "metadata": {
        "id": "BsEyVeeAuKAr",
        "colab": {
          "base_uri": "https://localhost:8080/"
        },
        "outputId": "0d8f1360-fbe9-4a5b-fbf0-91c9ed003980"
      },
      "outputs": [
        {
          "output_type": "stream",
          "name": "stdout",
          "text": [
            "{'brand': 'Ford', 'model': 'Mustang', 'year': 1964}\n"
          ]
        }
      ],
      "source": [
        "mydict ={\n",
        "  \"brand\": \"Ford\",\n",
        "  \"model\": \"Mustang\",\n",
        "  \"year\": 1964\n",
        "}\n",
        "print(mydict)"
      ]
    },
    {
      "cell_type": "markdown",
      "metadata": {
        "id": "xVzBvg3TuKAr"
      },
      "source": [
        "## Accessing items\n",
        "\n",
        "You can access the items of a dictionary by referring to its key name, inside square brackets:"
      ]
    },
    {
      "cell_type": "code",
      "execution_count": null,
      "metadata": {
        "id": "J4cl6YxBuKAr",
        "colab": {
          "base_uri": "https://localhost:8080/"
        },
        "outputId": "9651ce67-120c-46e6-ec62-454983bfb142"
      },
      "outputs": [
        {
          "output_type": "stream",
          "name": "stdout",
          "text": [
            "Mustang\n"
          ]
        }
      ],
      "source": [
        "x = mydict[\"model\"]\n",
        "print(x)"
      ]
    },
    {
      "cell_type": "markdown",
      "metadata": {
        "id": "0Uu3BxJ7uKAr"
      },
      "source": [
        "## Change Values\n",
        "\n",
        "You can change the value of a specific item by referring to its key name:"
      ]
    },
    {
      "cell_type": "code",
      "execution_count": null,
      "metadata": {
        "id": "GFiMJ-IcuKAs"
      },
      "outputs": [],
      "source": [
        "mydict[\"year\"] = 2018\n",
        "\n",
        "print(mydict)"
      ]
    },
    {
      "cell_type": "markdown",
      "metadata": {
        "id": "aUCmkn5wuKAt"
      },
      "source": [
        "## Adding/ removing Items\n",
        "\n",
        "Adding an item to the dictionary is done by using a new index key and assigning a value to it. Removing works similiar:"
      ]
    },
    {
      "cell_type": "code",
      "execution_count": null,
      "metadata": {
        "id": "HVTa4_jRuKAt"
      },
      "outputs": [],
      "source": [
        "mydict ={\n",
        "  \"brand\": \"Ford\",\n",
        "  \"model\": \"Mustang\",\n",
        "  \"year\": 1964\n",
        "}\n",
        "\n",
        "mydict[\"color\"] = \"red\"\n",
        "print(mydict)"
      ]
    },
    {
      "cell_type": "code",
      "source": [
        "del(mydict[\"color\"])\n",
        "print(mydict)"
      ],
      "metadata": {
        "id": "wrJXBuf2eFWK"
      },
      "execution_count": null,
      "outputs": []
    },
    {
      "cell_type": "markdown",
      "metadata": {
        "id": "uOoGwNbduKAt"
      },
      "source": [
        "## Exercise\n",
        "\n",
        "Construct a dictionary named car with the characteristics, Brand is \"Audi\", Model of the car: \"Q3\" and Year of construction: 2001.\n",
        "\n",
        "Then perform the following tasks:\n",
        "- Get its model\n",
        "- Change the year to 2019\n",
        "- Add Colour of car as Blue"
      ]
    },
    {
      "cell_type": "code",
      "execution_count": null,
      "metadata": {
        "id": "a1ssRcCHuKAt"
      },
      "outputs": [],
      "source": [
        "car ={\"brand\": \"Aufi\",\n",
        "  \"model\": \"Q3\",\n",
        "  \"year\": 2001\n",
        "\n",
        "}"
      ]
    },
    {
      "cell_type": "code",
      "execution_count": null,
      "metadata": {
        "id": "ezg7ERuEuKAu"
      },
      "outputs": [],
      "source": [
        "# get the model\n",
        "model = car[\"model\"]\n",
        "print(\"The model of car is: {}\".format(model))"
      ]
    },
    {
      "cell_type": "code",
      "execution_count": null,
      "metadata": {
        "id": "ZW7ei6zjuKAu"
      },
      "outputs": [],
      "source": [
        "# change the year\n",
        "car[\"year\"]=1999\n",
        "\n",
        "# print the entire dictionary\n",
        "print(car)"
      ]
    },
    {
      "cell_type": "code",
      "execution_count": null,
      "metadata": {
        "id": "-QgR5UTjuKAu"
      },
      "outputs": [],
      "source": [
        "# add colour\n",
        "car[\"colour\"] = \"red\"\n",
        "\n",
        "# print the entire dictionary\n",
        "print(car)"
      ]
    },
    {
      "cell_type": "markdown",
      "metadata": {
        "id": "IiFzHRxAuKAh"
      },
      "source": [
        "# Control Flow Statements\n",
        "\n",
        "The key thing to note about Python's control flow statements and program structure is that it uses indentation to mark blocks. Hence the amount of white space (space or tab characters) at the start of a line is very important."
      ]
    },
    {
      "cell_type": "markdown",
      "metadata": {
        "id": "16FjQnkZuKAh"
      },
      "source": [
        "## If - else\n",
        "\n",
        "An *if* statement consists of a boolean expression followed by one or more statements, and these statements are executed if the boolean condition is true.\n",
        "If the condition is not satisfied, the statements below *else* are executed."
      ]
    },
    {
      "cell_type": "code",
      "execution_count": null,
      "metadata": {
        "id": "kR_n26PGuKAi"
      },
      "outputs": [],
      "source": [
        "x = 12\n",
        "if x > 10:\n",
        "    print(\"Hello\")\n",
        "else:\n",
        "    print(\"Bye\")"
      ]
    },
    {
      "cell_type": "markdown",
      "metadata": {
        "id": "w4PTyfBDuKAi"
      },
      "source": [
        "## Elif\n",
        "\n",
        "To check for multiple conditions, the *elif* is used."
      ]
    },
    {
      "cell_type": "code",
      "execution_count": null,
      "metadata": {
        "id": "CetTPchOuKAi"
      },
      "outputs": [],
      "source": [
        "x = 10\n",
        "y = 12\n",
        "if x > y:\n",
        "    print(\"x>y\")\n",
        "elif x < y:\n",
        "    print(\"x<y\")\n",
        "else:\n",
        "    print(\"x=y\")"
      ]
    },
    {
      "cell_type": "markdown",
      "metadata": {
        "id": "YhnSH1A6uKAi"
      },
      "source": [
        "## For loop\n",
        "\n",
        "The *for* loops are used when you have a block of code which you want to repeat a fixed number of times. The Python *for* statement iterates over the members of a sequence in order, executing the block each time.\n",
        "\n",
        "When looping over integers the *range()* function is useful. It can be of two types.\n",
        "- The function *range(stop)* has parameter *stop* which is the number of integers (whole numbers) to generate, starting from zero. For example, **range(3) == [0, 1, 2].**\n",
        "So, in general, range(n) =  0, 1, ..., n-1\n",
        "\n",
        "\n",
        "- range(m,n)= m, m+1, ..., n-1\n",
        ". For example, **range(3, 6) === [3, 4, 5].**\n",
        "\n",
        "\n",
        "- range(m,n,step) = m, m+step, m+step+step, ..., n-1\n",
        ". For example, **range(3, 10, 2) === [3, 5, 7, 9].**\n",
        "\n",
        "\n",
        "Here, += operator is used. This operator adds right operand to the left operand and assign the result to left operand.\n",
        "For example, c += a is equivalent to c = c + a"
      ]
    },
    {
      "cell_type": "code",
      "execution_count": null,
      "metadata": {
        "id": "0M8OM0iDuKAi"
      },
      "outputs": [],
      "source": [
        "total = 0\n",
        "for i in range(5):\n",
        "    print(i)\n",
        "    total += i\n",
        "\n",
        "print(\"total =\",total)"
      ]
    },
    {
      "cell_type": "markdown",
      "metadata": {
        "id": "vH-SThiCuKAj"
      },
      "source": [
        "## While Loop\n",
        "\n",
        "The *while* loop loops through a block of code as long as a specified condition is true.\n",
        "\n",
        "while (condition) {\n",
        "\n",
        "  // code block to be executed\n",
        "\n",
        "}\n",
        "\n",
        "We display the squares of first two natural numbers.\n",
        "\n",
        "The ****** operator in Python denotes the power operator. For example, c**2 is equivalent to c to the power of 2 (= c x c)"
      ]
    },
    {
      "cell_type": "code",
      "execution_count": null,
      "metadata": {
        "id": "zuIiHUAduKAj"
      },
      "outputs": [],
      "source": [
        "i = 1\n",
        "while i < 3:\n",
        "    print(i ** 2)\n",
        "    i = i+1\n",
        "print('Bye')"
      ]
    },
    {
      "cell_type": "markdown",
      "metadata": {
        "id": "V3sBZmzDuKAj"
      },
      "source": [
        "## Exercise\n",
        "\n",
        "Try to print all the greetings by changing the time variable."
      ]
    },
    {
      "cell_type": "code",
      "execution_count": null,
      "metadata": {
        "id": "r02Hyo9ZuKAj"
      },
      "outputs": [],
      "source": [
        "time = None\n",
        "\n",
        "if time<12:\n",
        "    print(\"Guten Morgen\")\n",
        "elif time>17:\n",
        "    print(\"Guten Abend\")\n",
        "else:\n",
        "    print(\"Guten Tag\")"
      ]
    },
    {
      "cell_type": "markdown",
      "metadata": {
        "id": "64c3pylPuKAk"
      },
      "source": [
        "## Exercise\n",
        "Calculate the average of first 20 numbers, that is between 0 to 20. Use any of the Loop statements.\n"
      ]
    },
    {
      "cell_type": "code",
      "execution_count": null,
      "metadata": {
        "id": "l_kTlbB6uKAk"
      },
      "outputs": [],
      "source": [
        "average = None\n",
        "# write your code here\n",
        "sums=0\n",
        "for i in range(20):\n",
        "    sums+=i\n",
        "average = sums/20\n",
        "\n",
        "print(\"Average of first 20 numbers: {}\".format(average))"
      ]
    },
    {
      "cell_type": "markdown",
      "source": [
        "# Matplotlib"
      ],
      "metadata": {
        "id": "TqwSryb15u3b"
      }
    },
    {
      "cell_type": "markdown",
      "source": [
        "Data visualization is a key skill for aspiring data scientists. Matplotlib makes it easy to create meaningful and insightful plots. In this chapter, you’ll learn how to build various types of plots, and customize them to be more visually appealing and interpretable."
      ],
      "metadata": {
        "id": "bkf0J8EDRsjB"
      }
    },
    {
      "cell_type": "markdown",
      "source": [
        "Ignore the following code as it loads the dataset."
      ],
      "metadata": {
        "id": "TIviOpWPSCqI"
      }
    },
    {
      "cell_type": "code",
      "source": [
        "year = [1950, 1951, 1952, 1953, 1954, 1955, 1956, 1957, 1958, 1959, 1960, 1961, 1962, 1963, 1964, 1965, 1966, 1967, 1968, 1969, 1970, 1971, 1972, 1973, 1974, 1975, 1976, 1977, 1978, 1979, 1980, 1981, 1982, 1983, 1984, 1985, 1986, 1987, 1988, 1989, 1990, 1991, 1992, 1993, 1994, 1995, 1996, 1997, 1998, 1999, 2000, 2001, 2002, 2003, 2004, 2005, 2006, 2007, 2008, 2009, 2010, 2011, 2012, 2013, 2014, 2015, 2016, 2017, 2018, 2019, 2020, 2021, 2022, 2023, 2024, 2025, 2026, 2027, 2028, 2029, 2030, 2031, 2032, 2033, 2034, 2035, 2036, 2037, 2038, 2039, 2040, 2041, 2042, 2043, 2044, 2045, 2046, 2047, 2048, 2049, 2050, 2051, 2052, 2053, 2054, 2055, 2056, 2057, 2058, 2059, 2060, 2061, 2062, 2063, 2064, 2065, 2066, 2067, 2068, 2069, 2070, 2071, 2072, 2073, 2074, 2075, 2076, 2077, 2078, 2079, 2080, 2081, 2082, 2083, 2084, 2085, 2086, 2087, 2088, 2089, 2090, 2091, 2092, 2093, 2094, 2095, 2096, 2097, 2098, 2099, 2100]\n",
        "pop = [2.53, 2.57, 2.62, 2.67, 2.71, 2.76, 2.81, 2.86, 2.92, 2.97, 3.03, 3.08, 3.14, 3.2, 3.26, 3.33, 3.4, 3.47, 3.54, 3.62, 3.69, 3.77, 3.84, 3.92, 4.0, 4.07, 4.15, 4.22, 4.3, 4.37, 4.45, 4.53, 4.61, 4.69, 4.78, 4.86, 4.95, 5.05, 5.14, 5.23, 5.32, 5.41, 5.49, 5.58, 5.66, 5.74, 5.82, 5.9, 5.98, 6.05, 6.13, 6.2, 6.28, 6.36, 6.44, 6.51, 6.59, 6.67, 6.75, 6.83, 6.92, 7.0, 7.08, 7.16, 7.24, 7.32, 7.4, 7.48, 7.56, 7.64, 7.72, 7.79, 7.87, 7.94, 8.01, 8.08, 8.15, 8.22, 8.29, 8.36, 8.42, 8.49, 8.56, 8.62, 8.68, 8.74, 8.8, 8.86, 8.92, 8.98, 9.04, 9.09, 9.15, 9.2, 9.26, 9.31, 9.36, 9.41, 9.46, 9.5, 9.55, 9.6, 9.64, 9.68, 9.73, 9.77, 9.81, 9.85, 9.88, 9.92, 9.96, 9.99, 10.03, 10.06, 10.09, 10.13, 10.16, 10.19, 10.22, 10.25, 10.28, 10.31, 10.33, 10.36, 10.38, 10.41, 10.43, 10.46, 10.48, 10.5, 10.52, 10.55, 10.57, 10.59, 10.61, 10.63, 10.65, 10.66, 10.68, 10.7, 10.72, 10.73, 10.75, 10.77, 10.78, 10.79, 10.81, 10.82, 10.83, 10.84, 10.85]\n",
        "gdp_cap = [974.5803384, 5937.029525999999, 6223.367465, 4797.231267, 12779.37964, 34435.367439999995, 36126.4927, 29796.04834, 1391.253792, 33692.60508, 1441.284873, 3822.137084, 7446.298803, 12569.85177, 9065.800825, 10680.79282, 1217.032994, 430.0706916, 1713.778686, 2042.09524, 36319.23501, 706.016537, 1704.063724, 13171.63885, 4959.114854, 7006.580419, 986.1478792, 277.5518587, 3632.557798, 9645.06142, 1544.750112, 14619.222719999998, 8948.102923, 22833.30851, 35278.41874, 2082.4815670000003, 6025.374752000001, 6873.262326000001, 5581.180998, 5728.353514, 12154.08975, 641.3695236000001, 690.8055759, 33207.0844, 30470.0167, 13206.48452, 752.7497265, 32170.37442, 1327.60891, 27538.41188, 5186.050003, 942.6542111, 579.2317429999999, 1201.637154, 3548.3308460000003, 39724.97867, 18008.94444, 36180.78919, 2452.210407, 3540.651564, 11605.71449, 4471.061906, 40675.99635, 25523.2771, 28569.7197, 7320.880262000001, 31656.06806, 4519.461171, 1463.249282, 1593.06548, 23348.139730000003, 47306.98978, 10461.05868, 1569.331442, 414.5073415, 12057.49928, 1044.770126, 759.3499101, 12451.6558, 1042.581557, 1803.151496, 10956.99112, 11977.57496, 3095.7722710000003, 9253.896111, 3820.17523, 823.6856205, 944.0, 4811.060429, 1091.359778, 36797.93332, 25185.00911, 2749.320965, 619.6768923999999, 2013.977305, 49357.19017, 22316.19287, 2605.94758, 9809.185636, 4172.838464, 7408.905561, 3190.481016, 15389.924680000002, 20509.64777, 19328.70901, 7670.122558, 10808.47561, 863.0884639000001, 1598.435089, 21654.83194, 1712.472136, 9786.534714, 862.5407561000001, 47143.17964, 18678.31435, 25768.25759, 926.1410683, 9269.657808, 28821.0637, 3970.095407, 2602.394995, 4513.480643, 33859.74835, 37506.41907, 4184.548089, 28718.27684, 1107.482182, 7458.396326999999, 882.9699437999999, 18008.50924, 7092.923025, 8458.276384, 1056.380121, 33203.26128, 42951.65309, 10611.46299, 11415.80569, 2441.576404, 3025.349798, 2280.769906, 1271.211593, 469.70929810000007]\n",
        "life_exp = [43.828, 76.423, 72.301, 42.731, 75.32, 81.235, 79.829, 75.635, 64.062, 79.441, 56.728, 65.554, 74.852, 50.728, 72.39, 73.005, 52.295, 49.58, 59.723, 50.43, 80.653, 44.74100000000001, 50.651, 78.553, 72.961, 72.889, 65.152, 46.462, 55.322, 78.782, 48.328, 75.748, 78.273, 76.486, 78.332, 54.791, 72.235, 74.994, 71.33800000000001, 71.878, 51.57899999999999, 58.04, 52.947, 79.313, 80.657, 56.735, 59.448, 79.406, 60.022, 79.483, 70.259, 56.007, 46.388000000000005, 60.916, 70.19800000000001, 82.208, 73.33800000000001, 81.757, 64.69800000000001, 70.65, 70.964, 59.545, 78.885, 80.745, 80.546, 72.567, 82.603, 72.535, 54.11, 67.297, 78.623, 77.58800000000001, 71.993, 42.592, 45.678, 73.952, 59.443000000000005, 48.303, 74.241, 54.467, 64.164, 72.801, 76.195, 66.803, 74.543, 71.164, 42.082, 62.069, 52.906000000000006, 63.785, 79.762, 80.204, 72.899, 56.867, 46.859, 80.196, 75.64, 65.483, 75.53699999999999, 71.752, 71.421, 71.688, 75.563, 78.098, 78.74600000000001, 76.442, 72.476, 46.242, 65.528, 72.777, 63.062, 74.002, 42.568000000000005, 79.972, 74.663, 77.926, 48.159, 49.339, 80.941, 72.396, 58.556, 39.613, 80.884, 81.70100000000001, 74.143, 78.4, 52.517, 70.616, 58.42, 69.819, 73.923, 71.777, 51.542, 79.425, 78.242, 76.384, 73.747, 74.249, 73.422, 62.698, 42.38399999999999, 43.487]"
      ],
      "metadata": {
        "id": "NNQIy75KSD3_"
      },
      "execution_count": null,
      "outputs": []
    },
    {
      "cell_type": "markdown",
      "source": [
        "## Line plot\n",
        "\n",
        "In this chapter you will analyze the dynamics of world population growth. The world bank has estimates of the world population for the years 1950 up to 2100. The years are loaded in your workspace as a list called year, and the corresponding populations as a list called pop."
      ],
      "metadata": {
        "id": "HoEFK1oCXUYh"
      }
    },
    {
      "cell_type": "markdown",
      "source": [
        "\n",
        "- `print()` the last item from both the year and the pop list to see what the predicted population for the year 2100 is. Use two `print()` functions.\n",
        "- Before you can start, you should import `matplotlib.pyplot` as plt. pyplot is a sub-package of matplotlib, hence the dot.\n",
        "- Use `plt.plot()` to build a line plot. year should be mapped on the horizontal axis, pop on the vertical axis. Don't forget to finish off with the `plt.show()` function to actually display the plot.\n",
        "- Based on the plot, in approximately what year will there be more than ten billion human beings on this planet?\n"
      ],
      "metadata": {
        "id": "ggDpcpQ9YDvw"
      }
    },
    {
      "cell_type": "code",
      "source": [
        "# Print the last item from year and pop\n",
        "print(year[-1])\n",
        "print(pop[-1])\n",
        "\n",
        "# Import matplotlib.pyplot as plt\n",
        "import matplotlib.pyplot as plt\n",
        "\n",
        "# Make a line plot: year on the x-axis, pop on the y-axis\n",
        "plt.plot(year, pop)\n",
        "\n",
        "# Display the plot with plt.show()\n",
        "plt.show()"
      ],
      "metadata": {
        "id": "3DGnyCZSYbro"
      },
      "execution_count": null,
      "outputs": []
    },
    {
      "cell_type": "markdown",
      "source": [
        "## Scatter plot\n",
        "When you have a time scale along the horizontal axis, the line plot is your friend. But in many other cases, when you're trying to assess if there's a correlation between two variables, for example, the scatter plot is the better choice. Below is an example of how to build a scatter plot."
      ],
      "metadata": {
        "id": "EphZCIVnZtE5"
      }
    },
    {
      "cell_type": "code",
      "source": [
        "import matplotlib.pyplot as plt\n",
        "plt.scatter(x,y)\n",
        "plt.show()"
      ],
      "metadata": {
        "id": "T4FTkZerZ2e4"
      },
      "execution_count": null,
      "outputs": []
    },
    {
      "cell_type": "markdown",
      "source": [
        "Let's continue with a gdp_cap versus life_exp plot, the GDP and life expectancy data for different countries in 2007.\n",
        "- import matplotlib.pyplot package as plt\n",
        "- Print the last item from both the list gdp_cap, and the list life_exp; it is information about Zimbabwe.\n",
        "- Build a scatter plot, with gdp_cap on the x-axis, and life_exp on the y-axis.\n",
        "- A correlation will become clear when you display the GDP per capita on a logarithmic scale. Add the line plt.xscale('log').\n",
        "- Finish off your script with plt.show() to display the plot."
      ],
      "metadata": {
        "id": "fhHX4BwQZ6NQ"
      }
    },
    {
      "cell_type": "code",
      "source": [
        "# Import matplotlib.pyplot as plt\n",
        "import matplotlib.pyplot as plt\n",
        "\n",
        "# Print the last item of gdp_cap and life_exp\n",
        "print(gdp_cap[-1])\n",
        "print(life_exp[-1])\n",
        "\n",
        "# Make a scatter plot, gdp_cap on the x-axis, life_exp on the y-axis\n",
        "plt.scatter(gdp_cap, life_exp)\n",
        "\n",
        "# Put the x-axis on a logarithmic scale\n",
        "plt.xscale(\"log\")\n",
        "\n",
        "# Show plot\n",
        "plt.show()"
      ],
      "metadata": {
        "colab": {
          "base_uri": "https://localhost:8080/",
          "height": 470
        },
        "id": "L6otPjJ5azQY",
        "outputId": "68a0307e-519e-48b8-dd25-245c81000169"
      },
      "execution_count": null,
      "outputs": [
        {
          "output_type": "stream",
          "name": "stdout",
          "text": [
            "469.70929810000007\n",
            "43.487\n"
          ]
        },
        {
          "output_type": "display_data",
          "data": {
            "text/plain": [
              "<Figure size 640x480 with 1 Axes>"
            ],
            "image/png": "[encoded data removed]"
          },
          "metadata": {}
        }
      ]
    },
    {
      "cell_type": "markdown",
      "source": [
        "## Customization\n",
        "\n",
        "It's time to customize your own plot. This is the fun part, you will see your plot come to life!"
      ],
      "metadata": {
        "id": "E20EtxmmbNk4"
      }
    },
    {
      "cell_type": "markdown",
      "source": [
        "### Labels\n",
        "\n",
        "As a first step, let's add axis labels and a title to the plot. You can do this with the xlabel(), ylabel() and title() functions, available in `matplotlib.pyplot`. This sub-package is already imported as plt.\n",
        "- The strings xlab and ylab are already set for you. Use these variables to set the label of the x- and y-axis.\n",
        "- The string title is also coded for you. Use it to add a title to the plot.\n",
        "- After these customizations, finish the script with plt.show() to actually display the plot.\n"
      ],
      "metadata": {
        "id": "rNMKr7J0blP5"
      }
    },
    {
      "cell_type": "code",
      "source": [
        "# Basic scatter plot, log scale\n",
        "plt.scatter(gdp_cap, life_exp)\n",
        "plt.xscale('log')\n",
        "\n",
        "# Strings\n",
        "xlab = 'GDP per Capita [in USD]'\n",
        "ylab = 'Life Expectancy [in years]'\n",
        "title = 'World Development in 2007'\n",
        "\n",
        "# Add axis labels\n",
        "plt.xlabel(xlab)\n",
        "plt.ylabel(ylab)\n",
        "\n",
        "# Add title\n",
        "plt.title(title)\n",
        "\n",
        "# After customizing, display the plot\n",
        "plt.show()"
      ],
      "metadata": {
        "colab": {
          "base_uri": "https://localhost:8080/",
          "height": 476
        },
        "id": "3gSQuN51bp4h",
        "outputId": "85b2a643-4608-4523-a07e-0b3d1ad9c99c"
      },
      "execution_count": null,
      "outputs": [
        {
          "output_type": "display_data",
          "data": {
            "text/plain": [
              "<Figure size 640x480 with 1 Axes>"
            ],
            "image/png": "[encoded data removed]"
          },
          "metadata": {}
        }
      ]
    },
    {
      "cell_type": "markdown",
      "source": [
        "### Ticks\n",
        "The customizations you've coded up to now are available in the script, in a more concise form.\n",
        "\n",
        "You can control the y-ticks by specifying two arguments:\n",
        "\n",
        "`plt.yticks([0,1,2], [\"one\",\"two\",\"three\"])`\n",
        "\n",
        "In this example, the ticks corresponding to the numbers 0, 1 and 2 will be replaced by one, two and three, respectively.\n",
        "Let's do a similar thing for the x-axis of your world development chart, with the `xticks()` function. The tick values 1000, 10000 and 100000 should be replaced by 1k, 10k and 100k. To this end, two lists have already been created for you: tick_val and tick_lab.\n",
        "\n",
        "\n",
        "- Use tick_val and tick_lab as inputs to the xticks() function to make the the plot more readable.\n",
        "- As usual, display the plot with plt.show() after you've added the customizations.\n"
      ],
      "metadata": {
        "id": "ChbUDHi9b5Mw"
      }
    },
    {
      "cell_type": "code",
      "source": [
        "# Scatter plot\n",
        "plt.scatter(gdp_cap, life_exp)\n",
        "\n",
        "# Previous customizations\n",
        "plt.xscale('log')\n",
        "plt.xlabel('GDP per Capita [in USD]')\n",
        "plt.ylabel('Life Expectancy [in years]')\n",
        "plt.title('World Development in 2007')\n",
        "\n",
        "# Definition of tick_val and tick_lab\n",
        "tick_val = [1000, 10000, 100000]\n",
        "tick_lab = ['1k', '10k', '100k']\n",
        "\n",
        "# Adapt the ticks on the x-axis\n",
        "plt.xticks(tick_val, tick_lab)\n",
        "\n",
        "# After customizing, display the plot\n",
        "plt.show()"
      ],
      "metadata": {
        "colab": {
          "base_uri": "https://localhost:8080/",
          "height": 472
        },
        "id": "uHqPBV2rcbcn",
        "outputId": "e41fdee3-f9bb-4654-d3b6-782a5e619a4c"
      },
      "execution_count": null,
      "outputs": [
        {
          "output_type": "display_data",
          "data": {
            "text/plain": [
              "<Figure size 640x480 with 1 Axes>"
            ],
            "image/png": "[encoded data removed]"
          },
          "metadata": {}
        }
      ]
    },
    {
      "cell_type": "markdown",
      "source": [
        "# Pandas\n",
        "Pandas is an open source library, providing high-performance, easy-to-use data structures and data analysis tools for Python."
      ],
      "metadata": {
        "id": "lZdy_OnXekvR"
      }
    },
    {
      "cell_type": "markdown",
      "source": [
        "## From a dictionary to a DataFrame\n",
        "The DataFrame is one of Pandas' most important data structures. It's basically a way to store tabular data where you can label the rows and the columns. One way to build a DataFrame is from a dictionary."
      ],
      "metadata": {
        "id": "9PHT3MDYe1pl"
      }
    },
    {
      "cell_type": "markdown",
      "source": [
        "In the exercises that follow you will be working with vehicle data from different countries. Each observation corresponds to a country and the columns give information about the number of vehicles per capita, whether people drive left or right, and so on."
      ],
      "metadata": {
        "id": "MatjCW9GjAST"
      }
    },
    {
      "cell_type": "markdown",
      "source": [
        "\n",
        "1. Import pandas as pd.\n",
        "2. Use the pre-defined lists to create a dictionary called `my_dict`. There should be three key value pairs:\n",
        "- key `'country'` and value `names`.\n",
        "- key `'drives_right'` and value `dr`.\n",
        "- key `'cars_per_cap'` and value `cpc`.\n",
        "3. Use `pd.DataFrame()` to turn your dict into a DataFrame called `cars`.\n",
        "4. Print out `cars` and see how beautiful it is."
      ],
      "metadata": {
        "id": "4N32Fbv1hS8B"
      }
    },
    {
      "cell_type": "code",
      "source": [
        "# Pre-defined lists\n",
        "names = ['United States', 'Australia', 'Japan', 'India', 'Russia', 'Morocco', 'Egypt']\n",
        "dr =  [True, False, False, False, True, True, True]\n",
        "cpc = [809, 731, 588, 18, 200, 70, 45]\n",
        "\n",
        "# Import pandas as pd\n",
        "import pandas as pd\n",
        "\n",
        "# Create dictionary my_dict with three key:value pairs: my_dict\n",
        "my_dict = {\"country\":names, \"drives_right\":dr, \"cars_per_cap\": cpc}\n",
        "\n",
        "# Build a DataFrame cars from my_dict: cars\n",
        "cars = pd.DataFrame(my_dict)\n",
        "\n",
        "# Print cars\n",
        "print(cars)"
      ],
      "metadata": {
        "id": "gK4uC1fNh59K"
      },
      "execution_count": null,
      "outputs": []
    },
    {
      "cell_type": "markdown",
      "source": [
        "Have you noticed that the row labels (i.e. the labels for the different observations) were automatically set to integers from 0 up to 6?\n",
        "\n",
        "To solve this a list `row_labels` has been created. You can use it to specify the row labels of the `cars` DataFrame. You do this by setting the index attribute of cars, that you can access as `cars.index`.\n",
        "- Specify the row labels by setting cars.index equal to row_labels.\n",
        "- Print out cars again and check if the row labels are correct this time."
      ],
      "metadata": {
        "id": "urHWAy88jKlS"
      }
    },
    {
      "cell_type": "code",
      "source": [
        "import pandas as pd\n",
        "\n",
        "# Build cars DataFrame\n",
        "names = ['United States', 'Australia', 'Japan', 'India', 'Russia', 'Morocco', 'Egypt']\n",
        "dr =  [True, False, False, False, True, True, True]\n",
        "cpc = [809, 731, 588, 18, 200, 70, 45]\n",
        "cars_dict = { 'country':names, 'drives_right':dr, 'cars_per_cap':cpc }\n",
        "cars = pd.DataFrame(cars_dict)\n",
        "\n",
        "# Definition of row_labels\n",
        "row_labels = ['US', 'AUS', 'JPN', 'IN', 'RU', 'MOR', 'EG']\n",
        "\n",
        "# Specify row labels of cars\n",
        "cars.index = row_labels\n",
        "\n",
        "# Print cars again\n",
        "print(cars)"
      ],
      "metadata": {
        "colab": {
          "base_uri": "https://localhost:8080/"
        },
        "id": "EoniuYvEjVC7",
        "outputId": "bc7ca4eb-9faa-4a52-fca1-01a529a72165"
      },
      "execution_count": null,
      "outputs": [
        {
          "output_type": "stream",
          "name": "stdout",
          "text": [
            "           country  drives_right  cars_per_cap\n",
            "US   United States          True           809\n",
            "AUS      Australia         False           731\n",
            "JPN          Japan         False           588\n",
            "IN           India         False            18\n",
            "RU          Russia          True           200\n",
            "MOR        Morocco          True            70\n",
            "EG           Egypt          True            45\n"
          ]
        }
      ]
    },
    {
      "cell_type": "markdown",
      "source": [
        "## Square Brackets\n",
        "\n",
        "There are many different ways to index and select Pandas DataFrames. The simplest, but not the most powerful way, is to use square brackets.\n",
        "\n",
        "To select only the cars_per_cap column from cars, you can use:\n",
        "\n",
        "`cars['cars_per_cap']`\n",
        "\n",
        "`cars[['cars_per_cap']]`\n",
        "\n",
        "The single bracket version gives a Pandas Series, the double bracket version gives a Pandas DataFrame."
      ],
      "metadata": {
        "id": "SFgKRMRhjn-i"
      }
    },
    {
      "cell_type": "markdown",
      "source": [
        "Time for some excercise!\n",
        "\n",
        "- Use single square brackets to print out the country column of cars as a Pandas Series.\n",
        "- Use double square brackets to print out the country column of cars as a Pandas DataFrame.\n",
        "- Use double square brackets to print out a DataFrame with both the country and drives_right columns of cars, in this order."
      ],
      "metadata": {
        "id": "XTdB3M41kJ-b"
      }
    },
    {
      "cell_type": "code",
      "source": [
        "# Print out country column as Pandas Series\n",
        "print(cars[\"country\"])\n",
        "\n",
        "# Print out country column as Pandas DataFrame\n",
        "print(cars[[\"country\"]])\n",
        "\n",
        "# Print out DataFrame with country and drives_right columns\n",
        "print(cars[[\"country\", \"drives_right\"]])"
      ],
      "metadata": {
        "id": "ldjRmsOdkUlD",
        "colab": {
          "base_uri": "https://localhost:8080/"
        },
        "outputId": "7ab89578-3be4-4e89-ec07-54e2faddfc54"
      },
      "execution_count": null,
      "outputs": [
        {
          "output_type": "stream",
          "name": "stdout",
          "text": [
            "US     United States\n",
            "AUS        Australia\n",
            "JPN            Japan\n",
            "IN             India\n",
            "RU            Russia\n",
            "MOR          Morocco\n",
            "EG             Egypt\n",
            "Name: country, dtype: object\n",
            "           country\n",
            "US   United States\n",
            "AUS      Australia\n",
            "JPN          Japan\n",
            "IN           India\n",
            "RU          Russia\n",
            "MOR        Morocco\n",
            "EG           Egypt\n",
            "           country  drives_right\n",
            "US   United States          True\n",
            "AUS      Australia         False\n",
            "JPN          Japan         False\n",
            "IN           India         False\n",
            "RU          Russia          True\n",
            "MOR        Morocco          True\n",
            "EG           Egypt          True\n"
          ]
        }
      ]
    },
    {
      "cell_type": "markdown",
      "source": [
        "Square brackets can do more than just selecting columns. You can also use them to get rows, or observations, from a DataFrame. The following call selects the first five rows from the cars DataFrame:\n",
        "\n",
        "`cars[0:5]`\n",
        "\n",
        "The result is another DataFrame containing only the rows you specified.\n",
        "\n",
        "Pay attention: You can only select rows using square brackets if you specify a slice, like `0:4`. Also, you're using the integer indexes of the rows here, not the row labels!\n",
        "\n",
        "Let's practise that!\n",
        "\n",
        "- Select the first 3 observations from cars and print them out.\n",
        "- Select the fourth, fifth and sixth observation, corresponding to row indexes 3, 4 and 5, and print them out.\n"
      ],
      "metadata": {
        "id": "34I3AxmSkhGi"
      }
    },
    {
      "cell_type": "code",
      "source": [
        "# Print out first 3 observations\n",
        "print(cars[0:4])\n",
        "\n",
        "# Print out fourth, fifth and sixth observation\n",
        "print(cars[3:6])"
      ],
      "metadata": {
        "id": "_jgBmVwHkzhl",
        "colab": {
          "base_uri": "https://localhost:8080/"
        },
        "outputId": "b5a5aefb-923e-44e2-daca-38c2994b58e9"
      },
      "execution_count": null,
      "outputs": [
        {
          "output_type": "stream",
          "name": "stdout",
          "text": [
            "           country  drives_right  cars_per_cap\n",
            "US   United States          True           809\n",
            "AUS      Australia         False           731\n",
            "JPN          Japan         False           588\n",
            "IN           India         False            18\n",
            "     country  drives_right  cars_per_cap\n",
            "IN     India         False            18\n",
            "RU    Russia          True           200\n",
            "MOR  Morocco          True            70\n"
          ]
        }
      ]
    },
    {
      "cell_type": "markdown",
      "source": [
        "## loc and iloc\n",
        "\n",
        "With `loc` and `iloc` you can do practically any data selection operation on DataFrames you can think of. `loc` is label-based, which means that you have to specify rows and columns based on their row and column labels. `iloc` is integer index based, so you have to specify rows and columns by their integer index like you did in the previous exercise."
      ],
      "metadata": {
        "id": "gWc33_6sk9UC"
      }
    },
    {
      "cell_type": "markdown",
      "source": [
        "Try out the following commands in the IPython Shell to experiment with loc and iloc to select observations. Each pair of commands here gives the same result."
      ],
      "metadata": {
        "id": "1myZC8WNlOH7"
      }
    },
    {
      "cell_type": "code",
      "source": [
        "cars.loc['RU']\n",
        "cars.iloc[4]"
      ],
      "metadata": {
        "id": "3Um4xHFGlSgD",
        "colab": {
          "base_uri": "https://localhost:8080/"
        },
        "outputId": "450ec7df-9fc4-41ca-989f-8a1cc310e03f"
      },
      "execution_count": null,
      "outputs": [
        {
          "output_type": "execute_result",
          "data": {
            "text/plain": [
              "country         Russia\n",
              "drives_right      True\n",
              "cars_per_cap       200\n",
              "Name: RU, dtype: object"
            ]
          },
          "metadata": {},
          "execution_count": 4
        }
      ]
    },
    {
      "cell_type": "code",
      "source": [
        "cars.loc[['RU']]\n",
        "cars.iloc[[4]]"
      ],
      "metadata": {
        "id": "PESxN74Klt2z",
        "colab": {
          "base_uri": "https://localhost:8080/",
          "height": 81
        },
        "outputId": "1c121319-5bd9-4ba5-fdb9-3355cc4a413f"
      },
      "execution_count": null,
      "outputs": [
        {
          "output_type": "execute_result",
          "data": {
            "text/plain": [
              "   country  drives_right  cars_per_cap\n",
              "RU  Russia          True           200"
            ],
            "text/html": [
              "\n",
              "  <div id=\"df-30b10614-827a-464e-bcdb-6ec732ba3c59\">\n",
              "    <div class=\"colab-df-container\">\n",
              "      <div>\n",
              "<style scoped>\n",
              "    .dataframe tbody tr th:only-of-type {\n",
              "        vertical-align: middle;\n",
              "    }\n",
              "\n",
              "    .dataframe tbody tr th {\n",
              "        vertical-align: top;\n",
              "    }\n",
              "\n",
              "    .dataframe thead th {\n",
              "        text-align: right;\n",
              "    }\n",
              "</style>\n",
              "<table border=\"1\" class=\"dataframe\">\n",
              "  <thead>\n",
              "    <tr style=\"text-align: right;\">\n",
              "      <th></th>\n",
              "      <th>country</th>\n",
              "      <th>drives_right</th>\n",
              "      <th>cars_per_cap</th>\n",
              "    </tr>\n",
              "  </thead>\n",
              "  <tbody>\n",
              "    <tr>\n",
              "      <th>RU</th>\n",
              "      <td>Russia</td>\n",
              "      <td>True</td>\n",
              "      <td>200</td>\n",
              "    </tr>\n",
              "  </tbody>\n",
              "</table>\n",
              "</div>\n",
              "      <button class=\"colab-df-convert\" onclick=\"convertToInteractive('df-30b10614-827a-464e-bcdb-6ec732ba3c59')\"\n",
              "              title=\"Convert this dataframe to an interactive table.\"\n",
              "              style=\"display:none;\">\n",
              "        \n",
              "  <svg xmlns=\"http://www.w3.org/2000/svg\" height=\"24px\"viewBox=\"0 0 24 24\"\n",
              "       width=\"24px\">\n",
              "    <path d=\"M0 0h24v24H0V0z\" fill=\"none\"/>\n",
              "    <path d=\"M18.56 5.44l.94 2.06.94-2.06 2.06-.94-2.06-.94-.94-2.06-.94 2.06-2.06.94zm-11 1L8.5 8.5l.94-2.06 2.06-.94-2.06-.94L8.5 2.5l-.94 2.06-2.06.94zm10 10l.94 2.06.94-2.06 2.06-.94-2.06-.94-.94-2.06-.94 2.06-2.06.94z\"/><path d=\"M17.41 7.96l-1.37-1.37c-.4-.4-.92-.59-1.43-.59-.52 0-1.04.2-1.43.59L10.3 9.45l-7.72 7.72c-.78.78-.78 2.05 0 2.83L4 21.41c.39.39.9.59 1.41.59.51 0 1.02-.2 1.41-.59l7.78-7.78 2.81-2.81c.8-.78.8-2.07 0-2.86zM5.41 20L4 18.59l7.72-7.72 1.47 1.35L5.41 20z\"/>\n",
              "  </svg>\n",
              "      </button>\n",
              "      \n",
              "  <style>\n",
              "    .colab-df-container {\n",
              "      display:flex;\n",
              "      flex-wrap:wrap;\n",
              "      gap: 12px;\n",
              "    }\n",
              "\n",
              "    .colab-df-convert {\n",
              "      background-color: #E8F0FE;\n",
              "      border: none;\n",
              "      border-radius: 50%;\n",
              "      cursor: pointer;\n",
              "      display: none;\n",
              "      fill: #1967D2;\n",
              "      height: 32px;\n",
              "      padding: 0 0 0 0;\n",
              "      width: 32px;\n",
              "    }\n",
              "\n",
              "    .colab-df-convert:hover {\n",
              "      background-color: #E2EBFA;\n",
              "      box-shadow: 0px 1px 2px rgba(60, 64, 67, 0.3), 0px 1px 3px 1px rgba(60, 64, 67, 0.15);\n",
              "      fill: #174EA6;\n",
              "    }\n",
              "\n",
              "    [theme=dark] .colab-df-convert {\n",
              "      background-color: #3B4455;\n",
              "      fill: #D2E3FC;\n",
              "    }\n",
              "\n",
              "    [theme=dark] .colab-df-convert:hover {\n",
              "      background-color: #434B5C;\n",
              "      box-shadow: 0px 1px 3px 1px rgba(0, 0, 0, 0.15);\n",
              "      filter: drop-shadow(0px 1px 2px rgba(0, 0, 0, 0.3));\n",
              "      fill: #FFFFFF;\n",
              "    }\n",
              "  </style>\n",
              "\n",
              "      <script>\n",
              "        const buttonEl =\n",
              "          document.querySelector('#df-30b10614-827a-464e-bcdb-6ec732ba3c59 button.colab-df-convert');\n",
              "        buttonEl.style.display =\n",
              "          google.colab.kernel.accessAllowed ? 'block' : 'none';\n",
              "\n",
              "        async function convertToInteractive(key) {\n",
              "          const element = document.querySelector('#df-30b10614-827a-464e-bcdb-6ec732ba3c59');\n",
              "          const dataTable =\n",
              "            await google.colab.kernel.invokeFunction('convertToInteractive',\n",
              "                                                     [key], {});\n",
              "          if (!dataTable) return;\n",
              "\n",
              "          const docLinkHtml = 'Like what you see? Visit the ' +\n",
              "            '<a target=\"_blank\" href=https://colab.research.google.com/notebooks/data_table.ipynb>data table notebook</a>'\n",
              "            + ' to learn more about interactive tables.';\n",
              "          element.innerHTML = '';\n",
              "          dataTable['output_type'] = 'display_data';\n",
              "          await google.colab.output.renderOutput(dataTable, element);\n",
              "          const docLink = document.createElement('div');\n",
              "          docLink.innerHTML = docLinkHtml;\n",
              "          element.appendChild(docLink);\n",
              "        }\n",
              "      </script>\n",
              "    </div>\n",
              "  </div>\n",
              "  "
            ]
          },
          "metadata": {},
          "execution_count": 5
        }
      ]
    },
    {
      "cell_type": "code",
      "source": [
        "cars.loc[['RU', 'AUS']]\n",
        "cars.iloc[[4, 1]]"
      ],
      "metadata": {
        "id": "_8Kg6_x3lt9J",
        "colab": {
          "base_uri": "https://localhost:8080/",
          "height": 112
        },
        "outputId": "009fb737-6137-455a-daf4-ecb6cb086e14"
      },
      "execution_count": null,
      "outputs": [
        {
          "output_type": "execute_result",
          "data": {
            "text/plain": [
              "       country  drives_right  cars_per_cap\n",
              "RU      Russia          True           200\n",
              "AUS  Australia         False           731"
            ],
            "text/html": [
              "\n",
              "  <div id=\"df-ca80e1fa-b233-44c6-99ba-042e4786a29c\">\n",
              "    <div class=\"colab-df-container\">\n",
              "      <div>\n",
              "<style scoped>\n",
              "    .dataframe tbody tr th:only-of-type {\n",
              "        vertical-align: middle;\n",
              "    }\n",
              "\n",
              "    .dataframe tbody tr th {\n",
              "        vertical-align: top;\n",
              "    }\n",
              "\n",
              "    .dataframe thead th {\n",
              "        text-align: right;\n",
              "    }\n",
              "</style>\n",
              "<table border=\"1\" class=\"dataframe\">\n",
              "  <thead>\n",
              "    <tr style=\"text-align: right;\">\n",
              "      <th></th>\n",
              "      <th>country</th>\n",
              "      <th>drives_right</th>\n",
              "      <th>cars_per_cap</th>\n",
              "    </tr>\n",
              "  </thead>\n",
              "  <tbody>\n",
              "    <tr>\n",
              "      <th>RU</th>\n",
              "      <td>Russia</td>\n",
              "      <td>True</td>\n",
              "      <td>200</td>\n",
              "    </tr>\n",
              "    <tr>\n",
              "      <th>AUS</th>\n",
              "      <td>Australia</td>\n",
              "      <td>False</td>\n",
              "      <td>731</td>\n",
              "    </tr>\n",
              "  </tbody>\n",
              "</table>\n",
              "</div>\n",
              "      <button class=\"colab-df-convert\" onclick=\"convertToInteractive('df-ca80e1fa-b233-44c6-99ba-042e4786a29c')\"\n",
              "              title=\"Convert this dataframe to an interactive table.\"\n",
              "              style=\"display:none;\">\n",
              "        \n",
              "  <svg xmlns=\"http://www.w3.org/2000/svg\" height=\"24px\"viewBox=\"0 0 24 24\"\n",
              "       width=\"24px\">\n",
              "    <path d=\"M0 0h24v24H0V0z\" fill=\"none\"/>\n",
              "    <path d=\"M18.56 5.44l.94 2.06.94-2.06 2.06-.94-2.06-.94-.94-2.06-.94 2.06-2.06.94zm-11 1L8.5 8.5l.94-2.06 2.06-.94-2.06-.94L8.5 2.5l-.94 2.06-2.06.94zm10 10l.94 2.06.94-2.06 2.06-.94-2.06-.94-.94-2.06-.94 2.06-2.06.94z\"/><path d=\"M17.41 7.96l-1.37-1.37c-.4-.4-.92-.59-1.43-.59-.52 0-1.04.2-1.43.59L10.3 9.45l-7.72 7.72c-.78.78-.78 2.05 0 2.83L4 21.41c.39.39.9.59 1.41.59.51 0 1.02-.2 1.41-.59l7.78-7.78 2.81-2.81c.8-.78.8-2.07 0-2.86zM5.41 20L4 18.59l7.72-7.72 1.47 1.35L5.41 20z\"/>\n",
              "  </svg>\n",
              "      </button>\n",
              "      \n",
              "  <style>\n",
              "    .colab-df-container {\n",
              "      display:flex;\n",
              "      flex-wrap:wrap;\n",
              "      gap: 12px;\n",
              "    }\n",
              "\n",
              "    .colab-df-convert {\n",
              "      background-color: #E8F0FE;\n",
              "      border: none;\n",
              "      border-radius: 50%;\n",
              "      cursor: pointer;\n",
              "      display: none;\n",
              "      fill: #1967D2;\n",
              "      height: 32px;\n",
              "      padding: 0 0 0 0;\n",
              "      width: 32px;\n",
              "    }\n",
              "\n",
              "    .colab-df-convert:hover {\n",
              "      background-color: #E2EBFA;\n",
              "      box-shadow: 0px 1px 2px rgba(60, 64, 67, 0.3), 0px 1px 3px 1px rgba(60, 64, 67, 0.15);\n",
              "      fill: #174EA6;\n",
              "    }\n",
              "\n",
              "    [theme=dark] .colab-df-convert {\n",
              "      background-color: #3B4455;\n",
              "      fill: #D2E3FC;\n",
              "    }\n",
              "\n",
              "    [theme=dark] .colab-df-convert:hover {\n",
              "      background-color: #434B5C;\n",
              "      box-shadow: 0px 1px 3px 1px rgba(0, 0, 0, 0.15);\n",
              "      filter: drop-shadow(0px 1px 2px rgba(0, 0, 0, 0.3));\n",
              "      fill: #FFFFFF;\n",
              "    }\n",
              "  </style>\n",
              "\n",
              "      <script>\n",
              "        const buttonEl =\n",
              "          document.querySelector('#df-ca80e1fa-b233-44c6-99ba-042e4786a29c button.colab-df-convert');\n",
              "        buttonEl.style.display =\n",
              "          google.colab.kernel.accessAllowed ? 'block' : 'none';\n",
              "\n",
              "        async function convertToInteractive(key) {\n",
              "          const element = document.querySelector('#df-ca80e1fa-b233-44c6-99ba-042e4786a29c');\n",
              "          const dataTable =\n",
              "            await google.colab.kernel.invokeFunction('convertToInteractive',\n",
              "                                                     [key], {});\n",
              "          if (!dataTable) return;\n",
              "\n",
              "          const docLinkHtml = 'Like what you see? Visit the ' +\n",
              "            '<a target=\"_blank\" href=https://colab.research.google.com/notebooks/data_table.ipynb>data table notebook</a>'\n",
              "            + ' to learn more about interactive tables.';\n",
              "          element.innerHTML = '';\n",
              "          dataTable['output_type'] = 'display_data';\n",
              "          await google.colab.output.renderOutput(dataTable, element);\n",
              "          const docLink = document.createElement('div');\n",
              "          docLink.innerHTML = docLinkHtml;\n",
              "          element.appendChild(docLink);\n",
              "        }\n",
              "      </script>\n",
              "    </div>\n",
              "  </div>\n",
              "  "
            ]
          },
          "metadata": {},
          "execution_count": 6
        }
      ]
    },
    {
      "cell_type": "markdown",
      "source": [
        "`loc` and `iloc` also allow you to select both rows and columns from a DataFrame. To experiment, try out the following commands in the IPython Shell. Again, paired commands produce the same result."
      ],
      "metadata": {
        "id": "8Sdk7H1Fl-k9"
      }
    },
    {
      "cell_type": "code",
      "source": [
        "cars.loc['IN', 'cars_per_cap']\n",
        "cars.iloc[3, 0]"
      ],
      "metadata": {
        "id": "q-LrDIhJmBti",
        "colab": {
          "base_uri": "https://localhost:8080/",
          "height": 35
        },
        "outputId": "f1d4310e-99c0-4eaa-a89f-a44f87a47f57"
      },
      "execution_count": null,
      "outputs": [
        {
          "output_type": "execute_result",
          "data": {
            "text/plain": [
              "'India'"
            ],
            "application/vnd.google.colaboratory.intrinsic+json": {
              "type": "string"
            }
          },
          "metadata": {},
          "execution_count": 12
        }
      ]
    },
    {
      "cell_type": "code",
      "source": [
        "#cars.loc[['IN', 'RU'], 'cars_per_cap']\n",
        "cars.iloc[[3, 4], 0]"
      ],
      "metadata": {
        "id": "1KyV_GoYmB1S",
        "colab": {
          "base_uri": "https://localhost:8080/"
        },
        "outputId": "d5a836d4-cf5e-403e-f551-a5f8336eda5f"
      },
      "execution_count": null,
      "outputs": [
        {
          "output_type": "execute_result",
          "data": {
            "text/plain": [
              "IN     India\n",
              "RU    Russia\n",
              "Name: country, dtype: object"
            ]
          },
          "metadata": {},
          "execution_count": 14
        }
      ]
    },
    {
      "cell_type": "code",
      "source": [
        "cars.loc[['IN', 'RU'], ['cars_per_cap', 'country']]\n",
        "cars.iloc[[3, 4], [0, 1]]"
      ],
      "metadata": {
        "id": "2bcpaPeDmB7a",
        "colab": {
          "base_uri": "https://localhost:8080/",
          "height": 112
        },
        "outputId": "b1548367-7631-43ee-c09c-740c75862977"
      },
      "execution_count": null,
      "outputs": [
        {
          "output_type": "execute_result",
          "data": {
            "text/plain": [
              "   country  drives_right\n",
              "IN   India         False\n",
              "RU  Russia          True"
            ],
            "text/html": [
              "\n",
              "  <div id=\"df-9582e8a3-e2dd-494c-91dc-0a597e9368f5\">\n",
              "    <div class=\"colab-df-container\">\n",
              "      <div>\n",
              "<style scoped>\n",
              "    .dataframe tbody tr th:only-of-type {\n",
              "        vertical-align: middle;\n",
              "    }\n",
              "\n",
              "    .dataframe tbody tr th {\n",
              "        vertical-align: top;\n",
              "    }\n",
              "\n",
              "    .dataframe thead th {\n",
              "        text-align: right;\n",
              "    }\n",
              "</style>\n",
              "<table border=\"1\" class=\"dataframe\">\n",
              "  <thead>\n",
              "    <tr style=\"text-align: right;\">\n",
              "      <th></th>\n",
              "      <th>country</th>\n",
              "      <th>drives_right</th>\n",
              "    </tr>\n",
              "  </thead>\n",
              "  <tbody>\n",
              "    <tr>\n",
              "      <th>IN</th>\n",
              "      <td>India</td>\n",
              "      <td>False</td>\n",
              "    </tr>\n",
              "    <tr>\n",
              "      <th>RU</th>\n",
              "      <td>Russia</td>\n",
              "      <td>True</td>\n",
              "    </tr>\n",
              "  </tbody>\n",
              "</table>\n",
              "</div>\n",
              "      <button class=\"colab-df-convert\" onclick=\"convertToInteractive('df-9582e8a3-e2dd-494c-91dc-0a597e9368f5')\"\n",
              "              title=\"Convert this dataframe to an interactive table.\"\n",
              "              style=\"display:none;\">\n",
              "        \n",
              "  <svg xmlns=\"http://www.w3.org/2000/svg\" height=\"24px\"viewBox=\"0 0 24 24\"\n",
              "       width=\"24px\">\n",
              "    <path d=\"M0 0h24v24H0V0z\" fill=\"none\"/>\n",
              "    <path d=\"M18.56 5.44l.94 2.06.94-2.06 2.06-.94-2.06-.94-.94-2.06-.94 2.06-2.06.94zm-11 1L8.5 8.5l.94-2.06 2.06-.94-2.06-.94L8.5 2.5l-.94 2.06-2.06.94zm10 10l.94 2.06.94-2.06 2.06-.94-2.06-.94-.94-2.06-.94 2.06-2.06.94z\"/><path d=\"M17.41 7.96l-1.37-1.37c-.4-.4-.92-.59-1.43-.59-.52 0-1.04.2-1.43.59L10.3 9.45l-7.72 7.72c-.78.78-.78 2.05 0 2.83L4 21.41c.39.39.9.59 1.41.59.51 0 1.02-.2 1.41-.59l7.78-7.78 2.81-2.81c.8-.78.8-2.07 0-2.86zM5.41 20L4 18.59l7.72-7.72 1.47 1.35L5.41 20z\"/>\n",
              "  </svg>\n",
              "      </button>\n",
              "      \n",
              "  <style>\n",
              "    .colab-df-container {\n",
              "      display:flex;\n",
              "      flex-wrap:wrap;\n",
              "      gap: 12px;\n",
              "    }\n",
              "\n",
              "    .colab-df-convert {\n",
              "      background-color: #E8F0FE;\n",
              "      border: none;\n",
              "      border-radius: 50%;\n",
              "      cursor: pointer;\n",
              "      display: none;\n",
              "      fill: #1967D2;\n",
              "      height: 32px;\n",
              "      padding: 0 0 0 0;\n",
              "      width: 32px;\n",
              "    }\n",
              "\n",
              "    .colab-df-convert:hover {\n",
              "      background-color: #E2EBFA;\n",
              "      box-shadow: 0px 1px 2px rgba(60, 64, 67, 0.3), 0px 1px 3px 1px rgba(60, 64, 67, 0.15);\n",
              "      fill: #174EA6;\n",
              "    }\n",
              "\n",
              "    [theme=dark] .colab-df-convert {\n",
              "      background-color: #3B4455;\n",
              "      fill: #D2E3FC;\n",
              "    }\n",
              "\n",
              "    [theme=dark] .colab-df-convert:hover {\n",
              "      background-color: #434B5C;\n",
              "      box-shadow: 0px 1px 3px 1px rgba(0, 0, 0, 0.15);\n",
              "      filter: drop-shadow(0px 1px 2px rgba(0, 0, 0, 0.3));\n",
              "      fill: #FFFFFF;\n",
              "    }\n",
              "  </style>\n",
              "\n",
              "      <script>\n",
              "        const buttonEl =\n",
              "          document.querySelector('#df-9582e8a3-e2dd-494c-91dc-0a597e9368f5 button.colab-df-convert');\n",
              "        buttonEl.style.display =\n",
              "          google.colab.kernel.accessAllowed ? 'block' : 'none';\n",
              "\n",
              "        async function convertToInteractive(key) {\n",
              "          const element = document.querySelector('#df-9582e8a3-e2dd-494c-91dc-0a597e9368f5');\n",
              "          const dataTable =\n",
              "            await google.colab.kernel.invokeFunction('convertToInteractive',\n",
              "                                                     [key], {});\n",
              "          if (!dataTable) return;\n",
              "\n",
              "          const docLinkHtml = 'Like what you see? Visit the ' +\n",
              "            '<a target=\"_blank\" href=https://colab.research.google.com/notebooks/data_table.ipynb>data table notebook</a>'\n",
              "            + ' to learn more about interactive tables.';\n",
              "          element.innerHTML = '';\n",
              "          dataTable['output_type'] = 'display_data';\n",
              "          await google.colab.output.renderOutput(dataTable, element);\n",
              "          const docLink = document.createElement('div');\n",
              "          docLink.innerHTML = docLinkHtml;\n",
              "          element.appendChild(docLink);\n",
              "        }\n",
              "      </script>\n",
              "    </div>\n",
              "  </div>\n",
              "  "
            ]
          },
          "metadata": {},
          "execution_count": 15
        }
      ]
    },
    {
      "cell_type": "markdown",
      "source": [
        "It's also possible to select only columns with loc and iloc. In both cases, you simply put a slice going from beginning to end in front of the comma:"
      ],
      "metadata": {
        "id": "e6ENoh4jmKYr"
      }
    },
    {
      "cell_type": "code",
      "source": [
        "cars.loc[:, 'country']\n",
        "#cars.iloc[:, 1]"
      ],
      "metadata": {
        "colab": {
          "base_uri": "https://localhost:8080/"
        },
        "id": "cL6Jgc18mO7D",
        "outputId": "f0ed2d4c-a557-4699-f407-6ea7433eecdb"
      },
      "execution_count": null,
      "outputs": [
        {
          "output_type": "execute_result",
          "data": {
            "text/plain": [
              "US     United States\n",
              "AUS        Australia\n",
              "JPN            Japan\n",
              "IN             India\n",
              "RU            Russia\n",
              "MOR          Morocco\n",
              "EG             Egypt\n",
              "Name: country, dtype: object"
            ]
          },
          "metadata": {},
          "execution_count": 16
        }
      ]
    },
    {
      "cell_type": "code",
      "source": [
        "cars.loc[:, ['country','drives_right']]\n",
        "cars.iloc[:, [1, 2]]"
      ],
      "metadata": {
        "colab": {
          "base_uri": "https://localhost:8080/",
          "height": 269
        },
        "id": "L2LqZqaHmQy7",
        "outputId": "485bb2dd-efa3-4375-8477-9a75c9fb9edb"
      },
      "execution_count": null,
      "outputs": [
        {
          "output_type": "execute_result",
          "data": {
            "text/plain": [
              "     drives_right  cars_per_cap\n",
              "US           True           809\n",
              "AUS         False           731\n",
              "JPN         False           588\n",
              "IN          False            18\n",
              "RU           True           200\n",
              "MOR          True            70\n",
              "EG           True            45"
            ],
            "text/html": [
              "\n",
              "  <div id=\"df-6c0f0af6-6599-4bc6-aa6f-66129217cc8e\">\n",
              "    <div class=\"colab-df-container\">\n",
              "      <div>\n",
              "<style scoped>\n",
              "    .dataframe tbody tr th:only-of-type {\n",
              "        vertical-align: middle;\n",
              "    }\n",
              "\n",
              "    .dataframe tbody tr th {\n",
              "        vertical-align: top;\n",
              "    }\n",
              "\n",
              "    .dataframe thead th {\n",
              "        text-align: right;\n",
              "    }\n",
              "</style>\n",
              "<table border=\"1\" class=\"dataframe\">\n",
              "  <thead>\n",
              "    <tr style=\"text-align: right;\">\n",
              "      <th></th>\n",
              "      <th>drives_right</th>\n",
              "      <th>cars_per_cap</th>\n",
              "    </tr>\n",
              "  </thead>\n",
              "  <tbody>\n",
              "    <tr>\n",
              "      <th>US</th>\n",
              "      <td>True</td>\n",
              "      <td>809</td>\n",
              "    </tr>\n",
              "    <tr>\n",
              "      <th>AUS</th>\n",
              "      <td>False</td>\n",
              "      <td>731</td>\n",
              "    </tr>\n",
              "    <tr>\n",
              "      <th>JPN</th>\n",
              "      <td>False</td>\n",
              "      <td>588</td>\n",
              "    </tr>\n",
              "    <tr>\n",
              "      <th>IN</th>\n",
              "      <td>False</td>\n",
              "      <td>18</td>\n",
              "    </tr>\n",
              "    <tr>\n",
              "      <th>RU</th>\n",
              "      <td>True</td>\n",
              "      <td>200</td>\n",
              "    </tr>\n",
              "    <tr>\n",
              "      <th>MOR</th>\n",
              "      <td>True</td>\n",
              "      <td>70</td>\n",
              "    </tr>\n",
              "    <tr>\n",
              "      <th>EG</th>\n",
              "      <td>True</td>\n",
              "      <td>45</td>\n",
              "    </tr>\n",
              "  </tbody>\n",
              "</table>\n",
              "</div>\n",
              "      <button class=\"colab-df-convert\" onclick=\"convertToInteractive('df-6c0f0af6-6599-4bc6-aa6f-66129217cc8e')\"\n",
              "              title=\"Convert this dataframe to an interactive table.\"\n",
              "              style=\"display:none;\">\n",
              "        \n",
              "  <svg xmlns=\"http://www.w3.org/2000/svg\" height=\"24px\"viewBox=\"0 0 24 24\"\n",
              "       width=\"24px\">\n",
              "    <path d=\"M0 0h24v24H0V0z\" fill=\"none\"/>\n",
              "    <path d=\"M18.56 5.44l.94 2.06.94-2.06 2.06-.94-2.06-.94-.94-2.06-.94 2.06-2.06.94zm-11 1L8.5 8.5l.94-2.06 2.06-.94-2.06-.94L8.5 2.5l-.94 2.06-2.06.94zm10 10l.94 2.06.94-2.06 2.06-.94-2.06-.94-.94-2.06-.94 2.06-2.06.94z\"/><path d=\"M17.41 7.96l-1.37-1.37c-.4-.4-.92-.59-1.43-.59-.52 0-1.04.2-1.43.59L10.3 9.45l-7.72 7.72c-.78.78-.78 2.05 0 2.83L4 21.41c.39.39.9.59 1.41.59.51 0 1.02-.2 1.41-.59l7.78-7.78 2.81-2.81c.8-.78.8-2.07 0-2.86zM5.41 20L4 18.59l7.72-7.72 1.47 1.35L5.41 20z\"/>\n",
              "  </svg>\n",
              "      </button>\n",
              "      \n",
              "  <style>\n",
              "    .colab-df-container {\n",
              "      display:flex;\n",
              "      flex-wrap:wrap;\n",
              "      gap: 12px;\n",
              "    }\n",
              "\n",
              "    .colab-df-convert {\n",
              "      background-color: #E8F0FE;\n",
              "      border: none;\n",
              "      border-radius: 50%;\n",
              "      cursor: pointer;\n",
              "      display: none;\n",
              "      fill: #1967D2;\n",
              "      height: 32px;\n",
              "      padding: 0 0 0 0;\n",
              "      width: 32px;\n",
              "    }\n",
              "\n",
              "    .colab-df-convert:hover {\n",
              "      background-color: #E2EBFA;\n",
              "      box-shadow: 0px 1px 2px rgba(60, 64, 67, 0.3), 0px 1px 3px 1px rgba(60, 64, 67, 0.15);\n",
              "      fill: #174EA6;\n",
              "    }\n",
              "\n",
              "    [theme=dark] .colab-df-convert {\n",
              "      background-color: #3B4455;\n",
              "      fill: #D2E3FC;\n",
              "    }\n",
              "\n",
              "    [theme=dark] .colab-df-convert:hover {\n",
              "      background-color: #434B5C;\n",
              "      box-shadow: 0px 1px 3px 1px rgba(0, 0, 0, 0.15);\n",
              "      filter: drop-shadow(0px 1px 2px rgba(0, 0, 0, 0.3));\n",
              "      fill: #FFFFFF;\n",
              "    }\n",
              "  </style>\n",
              "\n",
              "      <script>\n",
              "        const buttonEl =\n",
              "          document.querySelector('#df-6c0f0af6-6599-4bc6-aa6f-66129217cc8e button.colab-df-convert');\n",
              "        buttonEl.style.display =\n",
              "          google.colab.kernel.accessAllowed ? 'block' : 'none';\n",
              "\n",
              "        async function convertToInteractive(key) {\n",
              "          const element = document.querySelector('#df-6c0f0af6-6599-4bc6-aa6f-66129217cc8e');\n",
              "          const dataTable =\n",
              "            await google.colab.kernel.invokeFunction('convertToInteractive',\n",
              "                                                     [key], {});\n",
              "          if (!dataTable) return;\n",
              "\n",
              "          const docLinkHtml = 'Like what you see? Visit the ' +\n",
              "            '<a target=\"_blank\" href=https://colab.research.google.com/notebooks/data_table.ipynb>data table notebook</a>'\n",
              "            + ' to learn more about interactive tables.';\n",
              "          element.innerHTML = '';\n",
              "          dataTable['output_type'] = 'display_data';\n",
              "          await google.colab.output.renderOutput(dataTable, element);\n",
              "          const docLink = document.createElement('div');\n",
              "          docLink.innerHTML = docLinkHtml;\n",
              "          element.appendChild(docLink);\n",
              "        }\n",
              "      </script>\n",
              "    </div>\n",
              "  </div>\n",
              "  "
            ]
          },
          "metadata": {},
          "execution_count": 66
        }
      ]
    },
    {
      "cell_type": "markdown",
      "source": [
        "## Filtering pandas DataFrames\n",
        "Now we want to learn a step-by-step approach to filter observations from a DataFrame based on boolean arrays."
      ],
      "metadata": {
        "id": "9hsv7XE9oLy8"
      }
    },
    {
      "cell_type": "markdown",
      "source": [
        "Let's start simple and try to find all observations in cars where `drives_right` is True.\n",
        "\n",
        "`drives_right` is a boolean column, so you'll have to extract it as a Series and then use this boolean Series to select observations from `cars`.\n",
        "\n",
        "\n",
        "- Extract the `drives_right` column as a Pandas Series and store it as `dr`.\n",
        "- Use `dr`, a boolean Series, to subset the `cars` DataFrame. Store the resulting selection in `sel`.\n",
        "- Print `sel`, and assert that `drives_right` is `True` for all observations.\n"
      ],
      "metadata": {
        "id": "DnvRDry_ofqc"
      }
    },
    {
      "cell_type": "code",
      "source": [
        "# Extract drives_right column as Series: dr\n",
        "dr = cars[\"drives_right\"]\n",
        "\n",
        "# Use dr to subset cars: sel\n",
        "sel = cars[dr == True]\n",
        "\n",
        "# Print sel\n",
        "print(sel)"
      ],
      "metadata": {
        "id": "Q6FUy_oqo5u0"
      },
      "execution_count": null,
      "outputs": []
    },
    {
      "cell_type": "markdown",
      "source": [
        "The code in the previous example worked fine, but you actually unnecessarily created a new variable dr. You can achieve the same result without this intermediate variable. Put the code that computes dr straight into the square brackets that select observations from cars.\n",
        "- Convert the code to a one-liner that calculates the variable sel as before."
      ],
      "metadata": {
        "id": "2TWSPLsFpO2V"
      }
    },
    {
      "cell_type": "code",
      "source": [
        "# Convert code to a one-liner\n",
        "sel = cars[cars['drives_right']]\n",
        "\n",
        "# Print sel\n",
        "print(sel)"
      ],
      "metadata": {
        "id": "xI4FlBCcpRy7"
      },
      "execution_count": null,
      "outputs": []
    },
    {
      "cell_type": "markdown",
      "source": [
        "This time you want to find out which countries have a high cars per capita figure. In other words, in which countries do many people have a car, or maybe multiple cars.\n",
        "\n",
        "Similar to the previous example, you'll want to build up a boolean Series, that you can then use to subset the cars DataFrame to select certain observations.\n",
        "\n",
        "\n",
        "- Select the `cars_per_cap` column from `cars` as a Pandas Series and store it as `cpc`.\n",
        "- Use `cpc` in combination with a comparison operator and `500`. You want to end up with a boolean Series that's `True` if the corresponding country has a `cars_per_cap` of more than `500` and `False` otherwise. Store this boolean Series as `many_cars`.\n",
        "- Use `many_cars` to subset `cars`, similar to what you did before. Store the result as `car_maniac`.\n",
        "- Print out `car_maniac` to see if you got it right.\n"
      ],
      "metadata": {
        "id": "DuRUbhQzpTTs"
      }
    },
    {
      "cell_type": "code",
      "source": [
        "# Create car_maniac: observations that have a cars_per_cap over 500\n",
        "cpc = cars[\"cars_per_cap\"]\n",
        "many_cars = cpc > 500\n",
        "car_maniac = cars[many_cars]\n",
        "\n",
        "# Print car_maniac\n",
        "print(car_maniac)"
      ],
      "metadata": {
        "colab": {
          "base_uri": "https://localhost:8080/"
        },
        "id": "9bJv0KSfp4-b",
        "outputId": "26ce78fa-93d8-4724-e8a9-f6aa7b0b64d9"
      },
      "execution_count": null,
      "outputs": [
        {
          "output_type": "stream",
          "name": "stdout",
          "text": [
            "           country  drives_right  cars_per_cap\n",
            "US   United States          True           809\n",
            "AUS      Australia         False           731\n",
            "JPN          Japan         False           588\n"
          ]
        }
      ]
    },
    {
      "cell_type": "markdown",
      "source": [
        "## Looping\n",
        "\n",
        "Iterating over a Pandas DataFrame is typically done with the `iterrows()` method. Used in a for loop, every observation is iterated over and on every iteration the row label and actual row contents are available:\n",
        "\n",
        "```\n",
        "for lab, row in cars.iterrows() :\n",
        "    ...\n",
        "```"
      ],
      "metadata": {
        "id": "e5nYckqNqeoE"
      }
    },
    {
      "cell_type": "markdown",
      "source": [
        "- Write a for loop that iterates over the rows of cars and on each iteration perform two print() calls: one to print out the row label and one to print out all of the rows contents."
      ],
      "metadata": {
        "id": "msNlYtiCq22E"
      }
    },
    {
      "cell_type": "code",
      "source": [
        "# Iterate over rows of cars\n",
        "for row, lab in cars.iterrows():\n",
        "    print(row)\n",
        "    print(lab)"
      ],
      "metadata": {
        "id": "WNSB9YKmq8vF"
      },
      "execution_count": null,
      "outputs": []
    },
    {
      "cell_type": "markdown",
      "source": [
        "The row data that's generated by iterrows() on every run is a Pandas Series. This format is not very convenient to print out. Luckily, you can easily select variables from the Pandas Series using square brackets:\n",
        "\n",
        "```\n",
        "for lab, row in cars.iterrows() :\n",
        "    print(row['country'])\n",
        "```"
      ],
      "metadata": {
        "id": "WuC31N3vrFNc"
      }
    },
    {
      "cell_type": "markdown",
      "source": [
        "\n",
        "- Using the iterators lab and row, adapt the code in the for loop such that the first iteration prints out `\"US: 809\"`, the second iteration `\"AUS: 731\"`, and so on.\n",
        "- The output should be in the form `\"country: cars_per_cap\"`. Make sure to print out this exact string (with the correct spacing).\n",
        "You can use `str()` to convert your integer data to a string so that you can print it in conjunction with the country label.\n"
      ],
      "metadata": {
        "id": "EyRIkx6LrKt7"
      }
    },
    {
      "cell_type": "code",
      "source": [
        "# Adapt for loop\n",
        "for lab, row in cars.iterrows() :\n",
        "    print(lab + \": \" + str(row[\"cars_per_cap\"]))"
      ],
      "metadata": {
        "id": "kqMqSrjVrW9l",
        "colab": {
          "base_uri": "https://localhost:8080/"
        },
        "outputId": "d613d996-f4ed-490e-d654-461517f6a8f0"
      },
      "execution_count": null,
      "outputs": [
        {
          "output_type": "stream",
          "name": "stdout",
          "text": [
            "US: 809\n",
            "AUS: 731\n",
            "JPN: 588\n",
            "IN: 18\n",
            "RU: 200\n",
            "MOR: 70\n",
            "EG: 45\n"
          ]
        }
      ]
    },
    {
      "cell_type": "markdown",
      "source": [
        "You can add the length of the country names of the cars DataFrame in a new column like this:\n",
        "\n",
        "```\n",
        "for lab, row in cars.iterrows() :\n",
        "    cars.loc[lab, \"name_length\"] = len(row[\"country\"])\n",
        "```\n",
        "\n",
        "- Use a `for` loop to add a new column, named `COUNTRY`, that contains a uppercase version of the country names in the `\"country\"` column. You can use the string method `upper()` for this.\n",
        "- To see if your code worked, print out `cars`. Don't indent this code, so that it's not part of the `for` loop.\n",
        "\n",
        "\n"
      ],
      "metadata": {
        "id": "RSZbzGfNrcFt"
      }
    },
    {
      "cell_type": "code",
      "source": [
        "# Code for loop that adds COUNTRY column\n",
        "for lab, row in cars.iterrows() :\n",
        "    cars.loc[lab, \"COUNTRY\"] = row[\"country\"].upper()\n",
        "\n",
        "# Print cars\n",
        "print(cars)"
      ],
      "metadata": {
        "colab": {
          "base_uri": "https://localhost:8080/"
        },
        "id": "f2VtRT3HsBUy",
        "outputId": "154f401f-8c6d-457b-f3fd-739352768f20"
      },
      "execution_count": null,
      "outputs": [
        {
          "output_type": "stream",
          "name": "stdout",
          "text": [
            "           country  drives_right  cars_per_cap        COUNTRY\n",
            "US   United States          True           809  UNITED STATES\n",
            "AUS      Australia         False           731      AUSTRALIA\n",
            "JPN          Japan         False           588          JAPAN\n",
            "IN           India         False            18          INDIA\n",
            "RU          Russia          True           200         RUSSIA\n",
            "MOR        Morocco          True            70        MOROCCO\n",
            "EG           Egypt          True            45          EGYPT\n"
          ]
        }
      ]
    }
  ]
}